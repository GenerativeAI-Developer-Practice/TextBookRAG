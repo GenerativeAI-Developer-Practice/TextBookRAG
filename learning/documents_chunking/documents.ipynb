{
 "cells": [
  {
   "cell_type": "markdown",
   "id": "811f186e",
   "metadata": {},
   "source": [
    "# Document loaders in langchain"
   ]
  },
  {
   "cell_type": "code",
   "execution_count": 23,
   "id": "892e2d66",
   "metadata": {},
   "outputs": [
    {
     "name": "stdout",
     "output_type": "stream",
     "text": [
      "Requirement already satisfied: langchain in c:\\khajaclassroom\\generativeai\\textbookrag\\learning\\documents_chunking\\.venv\\lib\\site-packages (0.3.23)\n",
      "Requirement already satisfied: langchain-community in c:\\khajaclassroom\\generativeai\\textbookrag\\learning\\documents_chunking\\.venv\\lib\\site-packages (0.3.21)\n",
      "Requirement already satisfied: unstructured in c:\\khajaclassroom\\generativeai\\textbookrag\\learning\\documents_chunking\\.venv\\lib\\site-packages (0.17.2)\n",
      "Collecting markdown\n",
      "  Downloading markdown-3.8-py3-none-any.whl.metadata (5.1 kB)\n",
      "Requirement already satisfied: langchain-core<1.0.0,>=0.3.51 in c:\\khajaclassroom\\generativeai\\textbookrag\\learning\\documents_chunking\\.venv\\lib\\site-packages (from langchain) (0.3.55)\n",
      "Requirement already satisfied: langchain-text-splitters<1.0.0,>=0.3.8 in c:\\khajaclassroom\\generativeai\\textbookrag\\learning\\documents_chunking\\.venv\\lib\\site-packages (from langchain) (0.3.8)\n",
      "Requirement already satisfied: langsmith<0.4,>=0.1.17 in c:\\khajaclassroom\\generativeai\\textbookrag\\learning\\documents_chunking\\.venv\\lib\\site-packages (from langchain) (0.3.33)\n",
      "Requirement already satisfied: pydantic<3.0.0,>=2.7.4 in c:\\khajaclassroom\\generativeai\\textbookrag\\learning\\documents_chunking\\.venv\\lib\\site-packages (from langchain) (2.11.3)\n",
      "Requirement already satisfied: SQLAlchemy<3,>=1.4 in c:\\khajaclassroom\\generativeai\\textbookrag\\learning\\documents_chunking\\.venv\\lib\\site-packages (from langchain) (2.0.40)\n",
      "Requirement already satisfied: requests<3,>=2 in c:\\khajaclassroom\\generativeai\\textbookrag\\learning\\documents_chunking\\.venv\\lib\\site-packages (from langchain) (2.32.3)\n",
      "Requirement already satisfied: PyYAML>=5.3 in c:\\khajaclassroom\\generativeai\\textbookrag\\learning\\documents_chunking\\.venv\\lib\\site-packages (from langchain) (6.0.2)\n",
      "Requirement already satisfied: aiohttp<4.0.0,>=3.8.3 in c:\\khajaclassroom\\generativeai\\textbookrag\\learning\\documents_chunking\\.venv\\lib\\site-packages (from langchain-community) (3.11.18)\n",
      "Requirement already satisfied: tenacity!=8.4.0,<10,>=8.1.0 in c:\\khajaclassroom\\generativeai\\textbookrag\\learning\\documents_chunking\\.venv\\lib\\site-packages (from langchain-community) (9.1.2)\n",
      "Requirement already satisfied: dataclasses-json<0.7,>=0.5.7 in c:\\khajaclassroom\\generativeai\\textbookrag\\learning\\documents_chunking\\.venv\\lib\\site-packages (from langchain-community) (0.6.7)\n",
      "Requirement already satisfied: pydantic-settings<3.0.0,>=2.4.0 in c:\\khajaclassroom\\generativeai\\textbookrag\\learning\\documents_chunking\\.venv\\lib\\site-packages (from langchain-community) (2.9.1)\n",
      "Requirement already satisfied: httpx-sse<1.0.0,>=0.4.0 in c:\\khajaclassroom\\generativeai\\textbookrag\\learning\\documents_chunking\\.venv\\lib\\site-packages (from langchain-community) (0.4.0)\n",
      "Requirement already satisfied: numpy<3,>=1.26.2 in c:\\khajaclassroom\\generativeai\\textbookrag\\learning\\documents_chunking\\.venv\\lib\\site-packages (from langchain-community) (2.2.5)\n",
      "Requirement already satisfied: chardet in c:\\khajaclassroom\\generativeai\\textbookrag\\learning\\documents_chunking\\.venv\\lib\\site-packages (from unstructured) (5.2.0)\n",
      "Requirement already satisfied: filetype in c:\\khajaclassroom\\generativeai\\textbookrag\\learning\\documents_chunking\\.venv\\lib\\site-packages (from unstructured) (1.2.0)\n",
      "Requirement already satisfied: python-magic in c:\\khajaclassroom\\generativeai\\textbookrag\\learning\\documents_chunking\\.venv\\lib\\site-packages (from unstructured) (0.4.27)\n",
      "Requirement already satisfied: lxml in c:\\khajaclassroom\\generativeai\\textbookrag\\learning\\documents_chunking\\.venv\\lib\\site-packages (from unstructured) (5.3.2)\n",
      "Requirement already satisfied: nltk in c:\\khajaclassroom\\generativeai\\textbookrag\\learning\\documents_chunking\\.venv\\lib\\site-packages (from unstructured) (3.9.1)\n",
      "Requirement already satisfied: beautifulsoup4 in c:\\khajaclassroom\\generativeai\\textbookrag\\learning\\documents_chunking\\.venv\\lib\\site-packages (from unstructured) (4.13.4)\n",
      "Requirement already satisfied: emoji in c:\\khajaclassroom\\generativeai\\textbookrag\\learning\\documents_chunking\\.venv\\lib\\site-packages (from unstructured) (2.14.1)\n",
      "Requirement already satisfied: python-iso639 in c:\\khajaclassroom\\generativeai\\textbookrag\\learning\\documents_chunking\\.venv\\lib\\site-packages (from unstructured) (2025.2.18)\n",
      "Requirement already satisfied: langdetect in c:\\khajaclassroom\\generativeai\\textbookrag\\learning\\documents_chunking\\.venv\\lib\\site-packages (from unstructured) (1.0.9)\n",
      "Requirement already satisfied: rapidfuzz in c:\\khajaclassroom\\generativeai\\textbookrag\\learning\\documents_chunking\\.venv\\lib\\site-packages (from unstructured) (3.13.0)\n",
      "Requirement already satisfied: backoff in c:\\khajaclassroom\\generativeai\\textbookrag\\learning\\documents_chunking\\.venv\\lib\\site-packages (from unstructured) (2.2.1)\n",
      "Requirement already satisfied: typing-extensions in c:\\khajaclassroom\\generativeai\\textbookrag\\learning\\documents_chunking\\.venv\\lib\\site-packages (from unstructured) (4.13.2)\n",
      "Requirement already satisfied: unstructured-client in c:\\khajaclassroom\\generativeai\\textbookrag\\learning\\documents_chunking\\.venv\\lib\\site-packages (from unstructured) (0.33.1)\n",
      "Requirement already satisfied: wrapt in c:\\khajaclassroom\\generativeai\\textbookrag\\learning\\documents_chunking\\.venv\\lib\\site-packages (from unstructured) (1.17.2)\n",
      "Requirement already satisfied: tqdm in c:\\khajaclassroom\\generativeai\\textbookrag\\learning\\documents_chunking\\.venv\\lib\\site-packages (from unstructured) (4.67.1)\n",
      "Requirement already satisfied: psutil in c:\\khajaclassroom\\generativeai\\textbookrag\\learning\\documents_chunking\\.venv\\lib\\site-packages (from unstructured) (7.0.0)\n",
      "Requirement already satisfied: python-oxmsg in c:\\khajaclassroom\\generativeai\\textbookrag\\learning\\documents_chunking\\.venv\\lib\\site-packages (from unstructured) (0.0.2)\n",
      "Requirement already satisfied: html5lib in c:\\khajaclassroom\\generativeai\\textbookrag\\learning\\documents_chunking\\.venv\\lib\\site-packages (from unstructured) (1.1)\n",
      "Requirement already satisfied: aiohappyeyeballs>=2.3.0 in c:\\khajaclassroom\\generativeai\\textbookrag\\learning\\documents_chunking\\.venv\\lib\\site-packages (from aiohttp<4.0.0,>=3.8.3->langchain-community) (2.6.1)\n",
      "Requirement already satisfied: aiosignal>=1.1.2 in c:\\khajaclassroom\\generativeai\\textbookrag\\learning\\documents_chunking\\.venv\\lib\\site-packages (from aiohttp<4.0.0,>=3.8.3->langchain-community) (1.3.2)\n",
      "Requirement already satisfied: attrs>=17.3.0 in c:\\khajaclassroom\\generativeai\\textbookrag\\learning\\documents_chunking\\.venv\\lib\\site-packages (from aiohttp<4.0.0,>=3.8.3->langchain-community) (25.3.0)\n",
      "Requirement already satisfied: frozenlist>=1.1.1 in c:\\khajaclassroom\\generativeai\\textbookrag\\learning\\documents_chunking\\.venv\\lib\\site-packages (from aiohttp<4.0.0,>=3.8.3->langchain-community) (1.6.0)\n",
      "Requirement already satisfied: multidict<7.0,>=4.5 in c:\\khajaclassroom\\generativeai\\textbookrag\\learning\\documents_chunking\\.venv\\lib\\site-packages (from aiohttp<4.0.0,>=3.8.3->langchain-community) (6.4.3)\n",
      "Requirement already satisfied: propcache>=0.2.0 in c:\\khajaclassroom\\generativeai\\textbookrag\\learning\\documents_chunking\\.venv\\lib\\site-packages (from aiohttp<4.0.0,>=3.8.3->langchain-community) (0.3.1)\n",
      "Requirement already satisfied: yarl<2.0,>=1.17.0 in c:\\khajaclassroom\\generativeai\\textbookrag\\learning\\documents_chunking\\.venv\\lib\\site-packages (from aiohttp<4.0.0,>=3.8.3->langchain-community) (1.20.0)\n",
      "Requirement already satisfied: marshmallow<4.0.0,>=3.18.0 in c:\\khajaclassroom\\generativeai\\textbookrag\\learning\\documents_chunking\\.venv\\lib\\site-packages (from dataclasses-json<0.7,>=0.5.7->langchain-community) (3.26.1)\n",
      "Requirement already satisfied: typing-inspect<1,>=0.4.0 in c:\\khajaclassroom\\generativeai\\textbookrag\\learning\\documents_chunking\\.venv\\lib\\site-packages (from dataclasses-json<0.7,>=0.5.7->langchain-community) (0.9.0)\n",
      "Requirement already satisfied: jsonpatch<2.0,>=1.33 in c:\\khajaclassroom\\generativeai\\textbookrag\\learning\\documents_chunking\\.venv\\lib\\site-packages (from langchain-core<1.0.0,>=0.3.51->langchain) (1.33)\n",
      "Requirement already satisfied: packaging<25,>=23.2 in c:\\khajaclassroom\\generativeai\\textbookrag\\learning\\documents_chunking\\.venv\\lib\\site-packages (from langchain-core<1.0.0,>=0.3.51->langchain) (24.2)\n",
      "Requirement already satisfied: httpx<1,>=0.23.0 in c:\\khajaclassroom\\generativeai\\textbookrag\\learning\\documents_chunking\\.venv\\lib\\site-packages (from langsmith<0.4,>=0.1.17->langchain) (0.28.1)\n",
      "Requirement already satisfied: orjson<4.0.0,>=3.9.14 in c:\\khajaclassroom\\generativeai\\textbookrag\\learning\\documents_chunking\\.venv\\lib\\site-packages (from langsmith<0.4,>=0.1.17->langchain) (3.10.16)\n",
      "Requirement already satisfied: requests-toolbelt<2.0.0,>=1.0.0 in c:\\khajaclassroom\\generativeai\\textbookrag\\learning\\documents_chunking\\.venv\\lib\\site-packages (from langsmith<0.4,>=0.1.17->langchain) (1.0.0)\n",
      "Requirement already satisfied: zstandard<0.24.0,>=0.23.0 in c:\\khajaclassroom\\generativeai\\textbookrag\\learning\\documents_chunking\\.venv\\lib\\site-packages (from langsmith<0.4,>=0.1.17->langchain) (0.23.0)\n",
      "Requirement already satisfied: annotated-types>=0.6.0 in c:\\khajaclassroom\\generativeai\\textbookrag\\learning\\documents_chunking\\.venv\\lib\\site-packages (from pydantic<3.0.0,>=2.7.4->langchain) (0.7.0)\n",
      "Requirement already satisfied: pydantic-core==2.33.1 in c:\\khajaclassroom\\generativeai\\textbookrag\\learning\\documents_chunking\\.venv\\lib\\site-packages (from pydantic<3.0.0,>=2.7.4->langchain) (2.33.1)\n",
      "Requirement already satisfied: typing-inspection>=0.4.0 in c:\\khajaclassroom\\generativeai\\textbookrag\\learning\\documents_chunking\\.venv\\lib\\site-packages (from pydantic<3.0.0,>=2.7.4->langchain) (0.4.0)\n",
      "Requirement already satisfied: python-dotenv>=0.21.0 in c:\\khajaclassroom\\generativeai\\textbookrag\\learning\\documents_chunking\\.venv\\lib\\site-packages (from pydantic-settings<3.0.0,>=2.4.0->langchain-community) (1.1.0)\n",
      "Requirement already satisfied: charset-normalizer<4,>=2 in c:\\khajaclassroom\\generativeai\\textbookrag\\learning\\documents_chunking\\.venv\\lib\\site-packages (from requests<3,>=2->langchain) (3.4.1)\n",
      "Requirement already satisfied: idna<4,>=2.5 in c:\\khajaclassroom\\generativeai\\textbookrag\\learning\\documents_chunking\\.venv\\lib\\site-packages (from requests<3,>=2->langchain) (3.10)\n",
      "Requirement already satisfied: urllib3<3,>=1.21.1 in c:\\khajaclassroom\\generativeai\\textbookrag\\learning\\documents_chunking\\.venv\\lib\\site-packages (from requests<3,>=2->langchain) (2.4.0)\n",
      "Requirement already satisfied: certifi>=2017.4.17 in c:\\khajaclassroom\\generativeai\\textbookrag\\learning\\documents_chunking\\.venv\\lib\\site-packages (from requests<3,>=2->langchain) (2025.1.31)\n",
      "Requirement already satisfied: greenlet>=1 in c:\\khajaclassroom\\generativeai\\textbookrag\\learning\\documents_chunking\\.venv\\lib\\site-packages (from SQLAlchemy<3,>=1.4->langchain) (3.2.0)\n",
      "Requirement already satisfied: soupsieve>1.2 in c:\\khajaclassroom\\generativeai\\textbookrag\\learning\\documents_chunking\\.venv\\lib\\site-packages (from beautifulsoup4->unstructured) (2.7)\n",
      "Requirement already satisfied: six>=1.9 in c:\\khajaclassroom\\generativeai\\textbookrag\\learning\\documents_chunking\\.venv\\lib\\site-packages (from html5lib->unstructured) (1.17.0)\n",
      "Requirement already satisfied: webencodings in c:\\khajaclassroom\\generativeai\\textbookrag\\learning\\documents_chunking\\.venv\\lib\\site-packages (from html5lib->unstructured) (0.5.1)\n",
      "Requirement already satisfied: click in c:\\khajaclassroom\\generativeai\\textbookrag\\learning\\documents_chunking\\.venv\\lib\\site-packages (from nltk->unstructured) (8.1.8)\n",
      "Requirement already satisfied: joblib in c:\\khajaclassroom\\generativeai\\textbookrag\\learning\\documents_chunking\\.venv\\lib\\site-packages (from nltk->unstructured) (1.4.2)\n",
      "Requirement already satisfied: regex>=2021.8.3 in c:\\khajaclassroom\\generativeai\\textbookrag\\learning\\documents_chunking\\.venv\\lib\\site-packages (from nltk->unstructured) (2024.11.6)\n",
      "Requirement already satisfied: olefile in c:\\khajaclassroom\\generativeai\\textbookrag\\learning\\documents_chunking\\.venv\\lib\\site-packages (from python-oxmsg->unstructured) (0.47)\n",
      "Requirement already satisfied: colorama in c:\\khajaclassroom\\generativeai\\textbookrag\\learning\\documents_chunking\\.venv\\lib\\site-packages (from tqdm->unstructured) (0.4.6)\n",
      "Requirement already satisfied: aiofiles>=24.1.0 in c:\\khajaclassroom\\generativeai\\textbookrag\\learning\\documents_chunking\\.venv\\lib\\site-packages (from unstructured-client->unstructured) (24.1.0)\n",
      "Requirement already satisfied: cryptography>=3.1 in c:\\khajaclassroom\\generativeai\\textbookrag\\learning\\documents_chunking\\.venv\\lib\\site-packages (from unstructured-client->unstructured) (44.0.2)\n",
      "Requirement already satisfied: eval-type-backport>=0.2.0 in c:\\khajaclassroom\\generativeai\\textbookrag\\learning\\documents_chunking\\.venv\\lib\\site-packages (from unstructured-client->unstructured) (0.2.2)\n",
      "Requirement already satisfied: nest-asyncio>=1.6.0 in c:\\khajaclassroom\\generativeai\\textbookrag\\learning\\documents_chunking\\.venv\\lib\\site-packages (from unstructured-client->unstructured) (1.6.0)\n",
      "Requirement already satisfied: pypdf>=4.0 in c:\\khajaclassroom\\generativeai\\textbookrag\\learning\\documents_chunking\\.venv\\lib\\site-packages (from unstructured-client->unstructured) (5.4.0)\n",
      "Requirement already satisfied: python-dateutil>=2.8.2 in c:\\khajaclassroom\\generativeai\\textbookrag\\learning\\documents_chunking\\.venv\\lib\\site-packages (from unstructured-client->unstructured) (2.9.0.post0)\n",
      "Requirement already satisfied: cffi>=1.12 in c:\\khajaclassroom\\generativeai\\textbookrag\\learning\\documents_chunking\\.venv\\lib\\site-packages (from cryptography>=3.1->unstructured-client->unstructured) (1.17.1)\n",
      "Requirement already satisfied: anyio in c:\\khajaclassroom\\generativeai\\textbookrag\\learning\\documents_chunking\\.venv\\lib\\site-packages (from httpx<1,>=0.23.0->langsmith<0.4,>=0.1.17->langchain) (4.9.0)\n",
      "Requirement already satisfied: httpcore==1.* in c:\\khajaclassroom\\generativeai\\textbookrag\\learning\\documents_chunking\\.venv\\lib\\site-packages (from httpx<1,>=0.23.0->langsmith<0.4,>=0.1.17->langchain) (1.0.8)\n",
      "Requirement already satisfied: h11<0.15,>=0.13 in c:\\khajaclassroom\\generativeai\\textbookrag\\learning\\documents_chunking\\.venv\\lib\\site-packages (from httpcore==1.*->httpx<1,>=0.23.0->langsmith<0.4,>=0.1.17->langchain) (0.14.0)\n",
      "Requirement already satisfied: jsonpointer>=1.9 in c:\\khajaclassroom\\generativeai\\textbookrag\\learning\\documents_chunking\\.venv\\lib\\site-packages (from jsonpatch<2.0,>=1.33->langchain-core<1.0.0,>=0.3.51->langchain) (3.0.0)\n",
      "Requirement already satisfied: mypy-extensions>=0.3.0 in c:\\khajaclassroom\\generativeai\\textbookrag\\learning\\documents_chunking\\.venv\\lib\\site-packages (from typing-inspect<1,>=0.4.0->dataclasses-json<0.7,>=0.5.7->langchain-community) (1.0.0)\n",
      "Requirement already satisfied: pycparser in c:\\khajaclassroom\\generativeai\\textbookrag\\learning\\documents_chunking\\.venv\\lib\\site-packages (from cffi>=1.12->cryptography>=3.1->unstructured-client->unstructured) (2.22)\n",
      "Requirement already satisfied: sniffio>=1.1 in c:\\khajaclassroom\\generativeai\\textbookrag\\learning\\documents_chunking\\.venv\\lib\\site-packages (from anyio->httpx<1,>=0.23.0->langsmith<0.4,>=0.1.17->langchain) (1.3.1)\n",
      "Downloading markdown-3.8-py3-none-any.whl (106 kB)\n",
      "   ---------------------------------------- 0.0/106.2 kB ? eta -:--:--\n",
      "   --- ------------------------------------ 10.2/106.2 kB ? eta -:--:--\n",
      "   --------------- ----------------------- 41.0/106.2 kB 487.6 kB/s eta 0:00:01\n",
      "   ------------------------------------ - 102.4/106.2 kB 837.8 kB/s eta 0:00:01\n",
      "   -------------------------------------- 106.2/106.2 kB 767.8 kB/s eta 0:00:00\n",
      "Installing collected packages: markdown\n",
      "Successfully installed markdown-3.8\n",
      "Note: you may need to restart the kernel to use updated packages.\n"
     ]
    },
    {
     "name": "stderr",
     "output_type": "stream",
     "text": [
      "\n",
      "[notice] A new release of pip is available: 24.0 -> 25.0.1\n",
      "[notice] To update, run: python.exe -m pip install --upgrade pip\n"
     ]
    }
   ],
   "source": [
    "%pip install langchain langchain-community unstructured markdown"
   ]
  },
  {
   "cell_type": "markdown",
   "id": "66ac52ff",
   "metadata": {},
   "source": [
    "## Lets read text files"
   ]
  },
  {
   "cell_type": "code",
   "execution_count": 3,
   "id": "488f63c4",
   "metadata": {},
   "outputs": [],
   "source": [
    "from langchain_community.document_loaders import TextLoader"
   ]
  },
  {
   "cell_type": "code",
   "execution_count": 4,
   "id": "b7ad93ec",
   "metadata": {},
   "outputs": [],
   "source": [
    "path = \"data/text/newtonlaws.txt\"\n",
    "loader = TextLoader(path)"
   ]
  },
  {
   "cell_type": "code",
   "execution_count": 5,
   "id": "eea34eca",
   "metadata": {},
   "outputs": [],
   "source": [
    "documents = loader.load()"
   ]
  },
  {
   "cell_type": "code",
   "execution_count": 8,
   "id": "0cd734a4",
   "metadata": {},
   "outputs": [
    {
     "name": "stdout",
     "output_type": "stream",
     "text": [
      "page_content='Newton's Laws of Motion\n",
      "\n",
      "Introduction:\n",
      "Isaac Newton, one of the most influential scientists of all time, formulated three fundamental laws that describe the motion of objects. These laws laid the foundation for classical mechanics and are essential in understanding how forces affect motion. His work, published in 1687 in the seminal work PhilosophiÃ¦ Naturalis Principia Mathematica, has continued to shape our understanding of the physical world for centuries.\n",
      "\n",
      "These laws not only explain a wide range of physical phenomena but also underpin much of the technology and engineering that we use in our daily lives. From launching rockets to predicting the motion of planets, Newton's laws are essential tools in the field of physics.\n",
      "\n",
      "First Law (Law of Inertia):\n",
      "An object at rest stays at rest, and an object in motion continues in uniform motion in a straight line unless acted upon by an external force. This law emphasizes the concept of inertia â€” the tendency of objects to resist changes in their state of motion.\n",
      "\n",
      "Key Concept: Inertia\n",
      "Inertia is the property of matter that resists changes in motion. The more massive an object, the greater its inertia. For instance, it's easier to push a bicycle than a car because the car has more mass and, hence, more inertia.\n",
      "\n",
      "Examples of the First Law:\n",
      "\n",
      "A book resting on a table remains there until someone moves it.\n",
      "\n",
      "A passenger in a moving vehicle continues to move forward when the brakes are suddenly applied.\n",
      "\n",
      "A hockey puck slides on ice until friction or another force stops it.\n",
      "\n",
      "The law also implies that in the absence of external forces (like friction or air resistance), a moving object will never stop or change direction on its own.\n",
      "\n",
      "Second Law (Law of Acceleration):\n",
      "The acceleration of an object is directly proportional to the net force acting upon it and inversely proportional to its mass. This is expressed by the equation:\n",
      "\n",
      "F = ma\n",
      "\n",
      "Where:\n",
      "\n",
      "F is the net force applied to the object,\n",
      "\n",
      "m is the mass of the object,\n",
      "\n",
      "a is the acceleration produced.\n",
      "\n",
      "This law explains how different forces affect the motion of objects. For example, if you apply the same force to two objects of different masses, the lighter object will accelerate more.\n",
      "\n",
      "Applications of the Second Law:\n",
      "\n",
      "In car crashes, the force experienced by passengers depends on their mass and the carâ€™s acceleration or deceleration.\n",
      "\n",
      "Engineers use this law to design systems where precise control of force and acceleration is necessary, such as in robotics or automotive braking systems.\n",
      "\n",
      "Unit Consideration:\n",
      "Force is measured in newtons (N), where 1 N = 1 kgÂ·m/sÂ².\n",
      "\n",
      "Third Law (Action and Reaction):\n",
      "For every action, there is an equal and opposite reaction. This means that forces always occur in pairs. If object A exerts a force on object B, then object B simultaneously exerts a force of equal magnitude and opposite direction on object A.\n",
      "\n",
      "Examples of the Third Law:\n",
      "\n",
      "When you jump off a boat, the boat moves backward as you move forward.\n",
      "\n",
      "Birds fly by pushing air down with their wings, and the air pushes them up.\n",
      "\n",
      "Rockets are propelled by expelling exhaust gases downward; the reaction force pushes the rocket upward.\n",
      "\n",
      "This law highlights the interactions between bodies and the mutual forces they exert on each other. It plays a critical role in the design of vehicles, machinery, and in understanding biological motion like walking or swimming.\n",
      "\n",
      "Conclusion:\n",
      "Newtonâ€™s Laws of Motion provide a framework for analyzing the movement of objects and the forces that cause such movement. These laws are still widely used today in physics and engineering to solve real-world problems. Whether analyzing the motion of planets or designing a roller coaster, Newton's laws offer the foundational tools necessary to predict and understand motion.\n",
      "\n",
      "They also lay the groundwork for more advanced concepts in physics, such as conservation laws and the dynamics of systems. In every aspect of motion we observe â€” from the flight of a ball to the orbit of a satellite â€” Newtonâ€™s insights remain as relevant as ever.' metadata={'source': 'data/text/newtonlaws.txt'}\n"
     ]
    }
   ],
   "source": [
    "for document in documents:\n",
    "    print(document)"
   ]
  },
  {
   "cell_type": "code",
   "execution_count": 24,
   "id": "986ffbd4",
   "metadata": {},
   "outputs": [],
   "source": [
    "# Markdown\n",
    "from langchain_community.document_loaders import UnstructuredMarkdownLoader"
   ]
  },
  {
   "cell_type": "code",
   "execution_count": 25,
   "id": "db441f8d",
   "metadata": {},
   "outputs": [],
   "source": [
    "path = \"data/markdown/newtonlaws.md\"\n",
    "\n",
    "loader = UnstructuredMarkdownLoader(path, mode=\"elements\")"
   ]
  },
  {
   "cell_type": "code",
   "execution_count": 26,
   "id": "3e85c822",
   "metadata": {},
   "outputs": [],
   "source": [
    "documents = loader.load()"
   ]
  },
  {
   "cell_type": "code",
   "execution_count": 29,
   "id": "d5bd9a11",
   "metadata": {},
   "outputs": [
    {
     "name": "stdout",
     "output_type": "stream",
     "text": [
      "page_content='Newton's Laws of Motion' metadata={'source': 'data/markdown/newtonlaws.md', 'category_depth': 0, 'languages': ['eng'], 'file_directory': 'data/markdown', 'filename': 'newtonlaws.md', 'filetype': 'text/markdown', 'last_modified': '2025-04-22T10:11:37', 'category': 'Title', 'element_id': 'c23a4ef14b22a72c6c0706459117616e'}\n",
      "page_content='Introduction' metadata={'source': 'data/markdown/newtonlaws.md', 'category_depth': 1, 'languages': ['eng'], 'file_directory': 'data/markdown', 'filename': 'newtonlaws.md', 'filetype': 'text/markdown', 'last_modified': '2025-04-22T10:11:37', 'parent_id': 'c23a4ef14b22a72c6c0706459117616e', 'category': 'Title', 'element_id': '1026b953660d26daf82b606533edc64c'}\n",
      "page_content='Isaac Newton, one of the most influential scientists of all time, formulated three fundamental laws that describe the motion of objects. These laws laid the foundation for classical mechanics and are essential in understanding how forces affect motion. His work, published in 1687 in the seminal work Philosophiæ Naturalis Principia Mathematica, has continued to shape our understanding of the physical world for centuries.' metadata={'source': 'data/markdown/newtonlaws.md', 'emphasized_text_contents': ['Philosophiæ Naturalis Principia Mathematica'], 'emphasized_text_tags': ['i'], 'languages': ['eng'], 'file_directory': 'data/markdown', 'filename': 'newtonlaws.md', 'filetype': 'text/markdown', 'last_modified': '2025-04-22T10:11:37', 'parent_id': '1026b953660d26daf82b606533edc64c', 'category': 'NarrativeText', 'element_id': '2f8b0fcd7200fd6470e998f5a30e1ded'}\n",
      "page_content='These laws not only explain a wide range of physical phenomena but also underpin much of the technology and engineering that we use in our daily lives. From launching rockets to predicting the motion of planets, Newton's laws are essential tools in the field of physics.' metadata={'source': 'data/markdown/newtonlaws.md', 'languages': ['eng'], 'file_directory': 'data/markdown', 'filename': 'newtonlaws.md', 'filetype': 'text/markdown', 'last_modified': '2025-04-22T10:11:37', 'parent_id': '1026b953660d26daf82b606533edc64c', 'category': 'NarrativeText', 'element_id': 'bd57f0160f81fc265e955b705cc2033b'}\n",
      "page_content='First Law (Law of Inertia)' metadata={'source': 'data/markdown/newtonlaws.md', 'category_depth': 1, 'languages': ['eng'], 'file_directory': 'data/markdown', 'filename': 'newtonlaws.md', 'filetype': 'text/markdown', 'last_modified': '2025-04-22T10:11:37', 'parent_id': 'c23a4ef14b22a72c6c0706459117616e', 'category': 'Title', 'element_id': '02368851d9679dfbf6b5969f5ef10cf0'}\n",
      "page_content='An object at rest stays at rest, and an object in motion continues in uniform motion in a straight line unless acted upon by an external force. This law emphasizes the concept of inertia — the tendency of objects to resist changes in their state of motion.' metadata={'source': 'data/markdown/newtonlaws.md', 'languages': ['eng'], 'file_directory': 'data/markdown', 'filename': 'newtonlaws.md', 'filetype': 'text/markdown', 'last_modified': '2025-04-22T10:11:37', 'parent_id': '02368851d9679dfbf6b5969f5ef10cf0', 'category': 'NarrativeText', 'element_id': '7aa729d0e5bc961067b582fd418e56c3'}\n",
      "page_content='Key Concept: Inertia Inertia is the property of matter that resists changes in motion. The more massive an object, the greater its inertia. For instance, it's easier to push a bicycle than a car because the car has more mass and, hence, more inertia.' metadata={'source': 'data/markdown/newtonlaws.md', 'emphasized_text_contents': ['Key Concept: Inertia'], 'emphasized_text_tags': ['b'], 'languages': ['eng'], 'file_directory': 'data/markdown', 'filename': 'newtonlaws.md', 'filetype': 'text/markdown', 'last_modified': '2025-04-22T10:11:37', 'parent_id': '02368851d9679dfbf6b5969f5ef10cf0', 'category': 'NarrativeText', 'element_id': 'd9629f4a5c04b68e006695985818d381'}\n",
      "page_content='Examples of the First Law: - A book resting on a table remains there until someone moves it. - A passenger in a moving vehicle continues to move forward when the brakes are suddenly applied. - A hockey puck slides on ice until friction or another force stops it.' metadata={'source': 'data/markdown/newtonlaws.md', 'emphasized_text_contents': ['Examples of the First Law:'], 'emphasized_text_tags': ['b'], 'languages': ['eng'], 'file_directory': 'data/markdown', 'filename': 'newtonlaws.md', 'filetype': 'text/markdown', 'last_modified': '2025-04-22T10:11:37', 'parent_id': '02368851d9679dfbf6b5969f5ef10cf0', 'category': 'NarrativeText', 'element_id': 'da3b98133255cf413fc5a88fd451328b'}\n",
      "page_content='The law also implies that in the absence of external forces (like friction or air resistance), a moving object will never stop or change direction on its own.' metadata={'source': 'data/markdown/newtonlaws.md', 'languages': ['eng'], 'file_directory': 'data/markdown', 'filename': 'newtonlaws.md', 'filetype': 'text/markdown', 'last_modified': '2025-04-22T10:11:37', 'parent_id': '02368851d9679dfbf6b5969f5ef10cf0', 'category': 'NarrativeText', 'element_id': 'ddac5a1603505817b07d20dbe2b6394c'}\n",
      "page_content='Second Law (Law of Acceleration)' metadata={'source': 'data/markdown/newtonlaws.md', 'category_depth': 1, 'languages': ['eng'], 'file_directory': 'data/markdown', 'filename': 'newtonlaws.md', 'filetype': 'text/markdown', 'last_modified': '2025-04-22T10:11:37', 'parent_id': 'c23a4ef14b22a72c6c0706459117616e', 'category': 'Title', 'element_id': '272b557eb78349544a0ce08f211b91bc'}\n",
      "page_content='The acceleration of an object is directly proportional to the net force acting upon it and inversely proportional to its mass. This is expressed by the equation:' metadata={'source': 'data/markdown/newtonlaws.md', 'languages': ['eng'], 'file_directory': 'data/markdown', 'filename': 'newtonlaws.md', 'filetype': 'text/markdown', 'last_modified': '2025-04-22T10:11:37', 'parent_id': '272b557eb78349544a0ce08f211b91bc', 'category': 'NarrativeText', 'element_id': '08932eaed455772ee87aa973e8a875a7'}\n",
      "page_content='F = ma' metadata={'source': 'data/markdown/newtonlaws.md', 'emphasized_text_contents': ['F = ma'], 'emphasized_text_tags': ['b'], 'languages': ['eng'], 'file_directory': 'data/markdown', 'filename': 'newtonlaws.md', 'filetype': 'text/markdown', 'last_modified': '2025-04-22T10:11:37', 'parent_id': '272b557eb78349544a0ce08f211b91bc', 'category': 'UncategorizedText', 'element_id': '6119a076d9c55cf12995ff4f72bdc110'}\n",
      "page_content='Where: - F is the net force applied to the object, - m is the mass of the object, - a is the acceleration produced.' metadata={'source': 'data/markdown/newtonlaws.md', 'emphasized_text_contents': ['F', 'm', 'a'], 'emphasized_text_tags': ['b', 'b', 'b'], 'languages': ['eng'], 'file_directory': 'data/markdown', 'filename': 'newtonlaws.md', 'filetype': 'text/markdown', 'last_modified': '2025-04-22T10:11:37', 'parent_id': '272b557eb78349544a0ce08f211b91bc', 'category': 'NarrativeText', 'element_id': 'a38f550e3b232552cf5924ba03c7054c'}\n",
      "page_content='This law explains how different forces affect the motion of objects. For example, if you apply the same force to two objects of different masses, the lighter object will accelerate more.' metadata={'source': 'data/markdown/newtonlaws.md', 'languages': ['eng'], 'file_directory': 'data/markdown', 'filename': 'newtonlaws.md', 'filetype': 'text/markdown', 'last_modified': '2025-04-22T10:11:37', 'parent_id': '272b557eb78349544a0ce08f211b91bc', 'category': 'NarrativeText', 'element_id': '94f5d4614fe755e94fc79f7c4566ceee'}\n",
      "page_content='Applications of the Second Law: - In car crashes, the force experienced by passengers depends on their mass and the car’s acceleration or deceleration. - Engineers use this law to design systems where precise control of force and acceleration is necessary, such as in robotics or automotive braking systems.' metadata={'source': 'data/markdown/newtonlaws.md', 'emphasized_text_contents': ['Applications of the Second Law:'], 'emphasized_text_tags': ['b'], 'languages': ['eng'], 'file_directory': 'data/markdown', 'filename': 'newtonlaws.md', 'filetype': 'text/markdown', 'last_modified': '2025-04-22T10:11:37', 'parent_id': '272b557eb78349544a0ce08f211b91bc', 'category': 'NarrativeText', 'element_id': '9702c03f28ddcfde2184c4b9ba8b9261'}\n",
      "page_content='Unit Consideration: Force is measured in newtons (N), where 1 N = 1 kg·m/s².' metadata={'source': 'data/markdown/newtonlaws.md', 'emphasized_text_contents': ['Unit Consideration:'], 'emphasized_text_tags': ['b'], 'languages': ['eng'], 'file_directory': 'data/markdown', 'filename': 'newtonlaws.md', 'filetype': 'text/markdown', 'last_modified': '2025-04-22T10:11:37', 'parent_id': '272b557eb78349544a0ce08f211b91bc', 'category': 'NarrativeText', 'element_id': 'a13ed92fe81d9058835857dbcd1e9a71'}\n",
      "page_content='Third Law (Action and Reaction)' metadata={'source': 'data/markdown/newtonlaws.md', 'category_depth': 1, 'languages': ['eng'], 'file_directory': 'data/markdown', 'filename': 'newtonlaws.md', 'filetype': 'text/markdown', 'last_modified': '2025-04-22T10:11:37', 'parent_id': 'c23a4ef14b22a72c6c0706459117616e', 'category': 'Title', 'element_id': 'ad9883596a5cb8f96d8d7748d81bdb2d'}\n",
      "page_content='For every action, there is an equal and opposite reaction. This means that forces always occur in pairs. If object A exerts a force on object B, then object B simultaneously exerts a force of equal magnitude and opposite direction on object A.' metadata={'source': 'data/markdown/newtonlaws.md', 'languages': ['eng'], 'file_directory': 'data/markdown', 'filename': 'newtonlaws.md', 'filetype': 'text/markdown', 'last_modified': '2025-04-22T10:11:37', 'parent_id': 'ad9883596a5cb8f96d8d7748d81bdb2d', 'category': 'NarrativeText', 'element_id': '4464e24e69669c136fe4226583d92e93'}\n",
      "page_content='Examples of the Third Law: - When you jump off a boat, the boat moves backward as you move forward. - Birds fly by pushing air down with their wings, and the air pushes them up. - Rockets are propelled by expelling exhaust gases downward; the reaction force pushes the rocket upward.' metadata={'source': 'data/markdown/newtonlaws.md', 'emphasized_text_contents': ['Examples of the Third Law:'], 'emphasized_text_tags': ['b'], 'languages': ['eng'], 'file_directory': 'data/markdown', 'filename': 'newtonlaws.md', 'filetype': 'text/markdown', 'last_modified': '2025-04-22T10:11:37', 'parent_id': 'ad9883596a5cb8f96d8d7748d81bdb2d', 'category': 'NarrativeText', 'element_id': '140fddfb9646882c6b1c9e8432c67166'}\n",
      "page_content='This law highlights the interactions between bodies and the mutual forces they exert on each other. It plays a critical role in the design of vehicles, machinery, and in understanding biological motion like walking or swimming.' metadata={'source': 'data/markdown/newtonlaws.md', 'languages': ['eng'], 'file_directory': 'data/markdown', 'filename': 'newtonlaws.md', 'filetype': 'text/markdown', 'last_modified': '2025-04-22T10:11:37', 'parent_id': 'ad9883596a5cb8f96d8d7748d81bdb2d', 'category': 'NarrativeText', 'element_id': 'eb31aee25b7de4f8bccf0f8b7f4cf768'}\n",
      "page_content='Conclusion' metadata={'source': 'data/markdown/newtonlaws.md', 'category_depth': 1, 'languages': ['eng'], 'file_directory': 'data/markdown', 'filename': 'newtonlaws.md', 'filetype': 'text/markdown', 'last_modified': '2025-04-22T10:11:37', 'parent_id': 'c23a4ef14b22a72c6c0706459117616e', 'category': 'Title', 'element_id': 'eea24a504e64b3e340a01201f5235498'}\n",
      "page_content='Newton’s Laws of Motion provide a framework for analyzing the movement of objects and the forces that cause such movement. These laws are still widely used today in physics and engineering to solve real-world problems. Whether analyzing the motion of planets or designing a roller coaster, Newton's laws offer the foundational tools necessary to predict and understand motion.' metadata={'source': 'data/markdown/newtonlaws.md', 'languages': ['eng'], 'file_directory': 'data/markdown', 'filename': 'newtonlaws.md', 'filetype': 'text/markdown', 'last_modified': '2025-04-22T10:11:37', 'parent_id': 'eea24a504e64b3e340a01201f5235498', 'category': 'NarrativeText', 'element_id': 'f84ec8ec9910f21c0c1de66522794d07'}\n",
      "page_content='They also lay the groundwork for more advanced concepts in physics, such as conservation laws and the dynamics of systems. In every aspect of motion we observe — from the flight of a ball to the orbit of a satellite — Newton’s insights remain as relevant as ever.' metadata={'source': 'data/markdown/newtonlaws.md', 'languages': ['eng'], 'file_directory': 'data/markdown', 'filename': 'newtonlaws.md', 'filetype': 'text/markdown', 'last_modified': '2025-04-22T10:11:37', 'parent_id': 'eea24a504e64b3e340a01201f5235498', 'category': 'NarrativeText', 'element_id': 'c0c9fdf19c02b538c6a5f064ad2e4f98'}\n"
     ]
    }
   ],
   "source": [
    "for document in documents:\n",
    "    print(document)"
   ]
  },
  {
   "cell_type": "code",
   "execution_count": 30,
   "id": "09fdc2ec",
   "metadata": {},
   "outputs": [
    {
     "name": "stdout",
     "output_type": "stream",
     "text": [
      "Note: you may need to restart the kernel to use updated packages.\n"
     ]
    },
    {
     "name": "stderr",
     "output_type": "stream",
     "text": [
      "\n",
      "[notice] A new release of pip is available: 24.0 -> 25.0.1\n",
      "[notice] To update, run: python.exe -m pip install --upgrade pip\n"
     ]
    }
   ],
   "source": [
    "%pip install --upgrade --quiet  docx2txt"
   ]
  },
  {
   "cell_type": "code",
   "execution_count": 31,
   "id": "ede7dfe0",
   "metadata": {},
   "outputs": [],
   "source": [
    "from langchain_community.document_loaders import Docx2txtLoader"
   ]
  },
  {
   "cell_type": "code",
   "execution_count": 33,
   "id": "e7f92c16",
   "metadata": {},
   "outputs": [],
   "source": [
    "path = \"data/word/newtonlaws.docx\"\n",
    "\n",
    "loader = Docx2txtLoader(path)"
   ]
  },
  {
   "cell_type": "code",
   "execution_count": 35,
   "id": "dca87b6d",
   "metadata": {},
   "outputs": [],
   "source": [
    "documents = loader.load()"
   ]
  },
  {
   "cell_type": "code",
   "execution_count": 36,
   "id": "b9c3d4f3",
   "metadata": {},
   "outputs": [
    {
     "name": "stdout",
     "output_type": "stream",
     "text": [
      "page_content='Newton's Laws of Motion\n",
      "\n",
      "\n",
      "\n",
      "Introduction: Isaac Newton, one of the most influential scientists of all time, formulated three fundamental laws that describe the motion of objects. These laws laid the foundation for classical mechanics and are essential in understanding how forces affect motion. His work, published in 1687 in the seminal work Philosophiæ Naturalis Principia Mathematica, has continued to shape our understanding of the physical world for centuries.\n",
      "\n",
      "These laws not only explain a wide range of physical phenomena but also underpin much of the technology and engineering that we use in our daily lives. From launching rockets to predicting the motion of planets, Newton's laws are essential tools in the field of physics.\n",
      "\n",
      "\n",
      "\n",
      "\n",
      "\n",
      "\n",
      "\n",
      "\n",
      "\n",
      "\n",
      "\n",
      "\n",
      "\n",
      "First Law (Law of Inertia): An object at rest stays at rest, and an object in motion continues in uniform motion in a straight line unless acted upon by an external force. This law emphasizes the concept of inertia — the tendency of objects to resist changes in their state of motion.\n",
      "\n",
      "Key Concept: Inertia Inertia is the property of matter that resists changes in motion. The more massive an object, the greater its inertia. For instance, it's easier to push a bicycle than a car because the car has more mass and, hence, more inertia.\n",
      "\n",
      "Examples of the First Law:\n",
      "\n",
      "A book resting on a table remains there until someone moves it.\n",
      "\n",
      "A passenger in a moving vehicle continues to move forward when the brakes are suddenly applied.\n",
      "\n",
      "A hockey puck slides on ice until friction or another force stops it.\n",
      "\n",
      "The law also implies that in the absence of external forces (like friction or air resistance), a moving object will never stop or change direction on its own.\n",
      "\n",
      "\n",
      "\n",
      "Second Law (Law of Acceleration): The acceleration of an object is directly proportional to the net force acting upon it and inversely proportional to its mass. This is expressed by the equation:\n",
      "\n",
      "F = ma\n",
      "\n",
      "Where:\n",
      "\n",
      "F is the net force applied to the object,\n",
      "\n",
      "m is the mass of the object,\n",
      "\n",
      "a is the acceleration produced.\n",
      "\n",
      "This law explains how different forces affect the motion of objects. For example, if you apply the same force to two objects of different masses, the lighter object will accelerate more.\n",
      "\n",
      "Applications of the Second Law:\n",
      "\n",
      "In car crashes, the force experienced by passengers depends on their mass and the car’s acceleration or deceleration.\n",
      "\n",
      "Engineers use this law to design systems where precise control of force and acceleration is necessary, such as in robotics or automotive braking systems.\n",
      "\n",
      "Unit Consideration: Force is measured in newtons (N), where 1 N = 1 kg·m/s².\n",
      "\n",
      "\n",
      "\n",
      "Third Law (Action and Reaction): For every action, there is an equal and opposite reaction. This means that forces always occur in pairs. If object A exerts a force on object B, then object B simultaneously exerts a force of equal magnitude and opposite direction on object A.\n",
      "\n",
      "Examples of the Third Law:\n",
      "\n",
      "When you jump off a boat, the boat moves backward as you move forward.\n",
      "\n",
      "Birds fly by pushing air down with their wings, and the air pushes them up.\n",
      "\n",
      "Rockets are propelled by expelling exhaust gases downward; the reaction force pushes the rocket upward.\n",
      "\n",
      "This law highlights the interactions between bodies and the mutual forces they exert on each other. It plays a critical role in the design of vehicles, machinery, and in understanding biological motion like walking or swimming.\n",
      "\n",
      "\n",
      "\n",
      "Conclusion: Newton’s Laws of Motion provide a framework for analyzing the movement of objects and the forces that cause such movement. These laws are still widely used today in physics and engineering to solve real-world problems. Whether analyzing the motion of planets or designing a roller coaster, Newton's laws offer the foundational tools necessary to predict and understand motion.\n",
      "\n",
      "They also lay the groundwork for more advanced concepts in physics, such as conservation laws and the dynamics of systems. In every aspect of motion we observe — from the flight of a ball to the orbit of a satellite — Newton’s insights remain as relevant as ever.' metadata={'source': 'data/word/newtonlaws.docx'}\n"
     ]
    }
   ],
   "source": [
    "for document in documents:\n",
    "    print(document)"
   ]
  },
  {
   "cell_type": "code",
   "execution_count": 37,
   "id": "06851bfa",
   "metadata": {},
   "outputs": [
    {
     "name": "stdout",
     "output_type": "stream",
     "text": [
      "Note: you may need to restart the kernel to use updated packages.\n"
     ]
    },
    {
     "name": "stderr",
     "output_type": "stream",
     "text": [
      "\n",
      "[notice] A new release of pip is available: 24.0 -> 25.0.1\n",
      "[notice] To update, run: python.exe -m pip install --upgrade pip\n"
     ]
    }
   ],
   "source": [
    "# pdf loaders\n",
    "%pip install -qU langchain_community pypdf"
   ]
  },
  {
   "cell_type": "code",
   "execution_count": 40,
   "id": "f76c0889",
   "metadata": {},
   "outputs": [],
   "source": [
    "from langchain_community.document_loaders import PyPDFLoader"
   ]
  },
  {
   "cell_type": "code",
   "execution_count": 41,
   "id": "1c3e6568",
   "metadata": {},
   "outputs": [],
   "source": [
    "path = \"data/pdf/newtonlaws.pdf\"\n",
    "loader = PyPDFLoader(path)"
   ]
  },
  {
   "cell_type": "code",
   "execution_count": 43,
   "id": "ed9174e1",
   "metadata": {},
   "outputs": [],
   "source": [
    "documents = loader.load()"
   ]
  },
  {
   "cell_type": "code",
   "execution_count": 45,
   "id": "1ab4c532",
   "metadata": {},
   "outputs": [
    {
     "name": "stdout",
     "output_type": "stream",
     "text": [
      "page_content='Newton's Laws of Motion \n",
      " \n",
      "Introduction: Isaac Newton, one of the most influential scientists of all time, \n",
      "formulated three fundamental laws that describe the motion of objects. These laws laid \n",
      "the foundation for classical mechanics and are essential in understanding how forces \n",
      "affect motion. His work, published in 1687 in the seminal work Philosophiæ Naturalis \n",
      "Principia Mathematica, has continued to shape our understanding of the physical world \n",
      "for centuries. \n",
      "These laws not only explain a wide range of physical phenomena but also underpin \n",
      "much of the technology and engineering that we use in our daily lives. From launching \n",
      "rockets to predicting the motion of planets, Newton's laws are essential tools in the \n",
      "field of physics. \n",
      " \n",
      " \n",
      " \n",
      " \n",
      " \n",
      " \n",
      "First Law (Law of Inertia): An object at rest stays at rest, and an object in motion \n",
      "continues in uniform motion in a straight line unless acted upon by an external force. \n",
      "This law emphasizes the concept of inertia — the tendency of objects to resist changes \n",
      "in their state of motion. \n",
      "Key Concept: Inertia Inertia is the property of matter that resists changes in motion. The \n",
      "more massive an object, the greater its inertia. For instance, it's easier to push a bicycle \n",
      "than a car because the car has more mass and, hence, more inertia. \n",
      "Examples of the First Law: \n",
      "• A book resting on a table remains there until someone moves it. \n",
      "• A passenger in a moving vehicle continues to move forward when the brakes are \n",
      "suddenly applied. \n",
      "• A hockey puck slides on ice until friction or another force stops it. \n",
      "The law also implies that in the absence of external forces (like friction or air \n",
      "resistance), a moving object will never stop or change direction on its own.' metadata={'producer': 'Microsoft® Word LTSC', 'creator': 'Microsoft® Word LTSC', 'creationdate': '2025-04-22T10:34:40+05:30', 'author': 'shaik ibrahim', 'moddate': '2025-04-22T10:34:40+05:30', 'source': 'data/pdf/newtonlaws.pdf', 'total_pages': 3, 'page': 0, 'page_label': '1'}\n",
      "page_content='Second Law (Law of Acceleration): The acceleration of an object is directly \n",
      "proportional to the net force acting upon it and inversely proportional to its mass. This is \n",
      "expressed by the equation: \n",
      "F = ma \n",
      "Where: \n",
      "• F is the net force applied to the object, \n",
      "• m is the mass of the object, \n",
      "• a is the acceleration produced. \n",
      "This law explains how different forces affect the motion of objects. For example, if you \n",
      "apply the same force to two objects of different masses, the lighter object will \n",
      "accelerate more. \n",
      "Applications of the Second Law: \n",
      "• In car crashes, the force experienced by passengers depends on their mass and \n",
      "the car’s acceleration or deceleration. \n",
      "• Engineers use this law to design systems where precise control of force and \n",
      "acceleration is necessary, such as in robotics or automotive braking systems. \n",
      "Unit Consideration: Force is measured in newtons (N), where 1 N = 1 kg·m/s². \n",
      " \n",
      "Third Law (Action and Reaction): For every action, there is an equal and opposite \n",
      "reaction. This means that forces always occur in pairs. If object A exerts a force on \n",
      "object B, then object B simultaneously exerts a force of equal magnitude and opposite \n",
      "direction on object A. \n",
      "Examples of the Third Law: \n",
      "• When you jump off a boat, the boat moves backward as you move forward. \n",
      "• Birds fly by pushing air down with their wings, and the air pushes them up. \n",
      "• Rockets are propelled by expelling exhaust gases downward; the reaction force \n",
      "pushes the rocket upward. \n",
      "This law highlights the interactions between bodies and the mutual forces they exert on \n",
      "each other. It plays a critical role in the design of vehicles, machinery, and in \n",
      "understanding biological motion like walking or swimming.' metadata={'producer': 'Microsoft® Word LTSC', 'creator': 'Microsoft® Word LTSC', 'creationdate': '2025-04-22T10:34:40+05:30', 'author': 'shaik ibrahim', 'moddate': '2025-04-22T10:34:40+05:30', 'source': 'data/pdf/newtonlaws.pdf', 'total_pages': 3, 'page': 1, 'page_label': '2'}\n",
      "page_content='Conclusion: Newton’s Laws of Motion provide a framework for analyzing the movement \n",
      "of objects and the forces that cause such movement. These laws are still widely used \n",
      "today in physics and engineering to solve real-world problems. Whether analyzing the \n",
      "motion of planets or designing a roller coaster, Newton's laws offer the foundational \n",
      "tools necessary to predict and understand motion. \n",
      "They also lay the groundwork for more advanced concepts in physics, such as \n",
      "conservation laws and the dynamics of systems. In every aspect of motion we observe \n",
      "— from the flight of a ball to the orbit of a satellite — Newton’s insights remain as \n",
      "relevant as ever.' metadata={'producer': 'Microsoft® Word LTSC', 'creator': 'Microsoft® Word LTSC', 'creationdate': '2025-04-22T10:34:40+05:30', 'author': 'shaik ibrahim', 'moddate': '2025-04-22T10:34:40+05:30', 'source': 'data/pdf/newtonlaws.pdf', 'total_pages': 3, 'page': 2, 'page_label': '3'}\n"
     ]
    }
   ],
   "source": [
    "for document in documents:\n",
    "    print(document)"
   ]
  }
 ],
 "metadata": {
  "kernelspec": {
   "display_name": ".venv",
   "language": "python",
   "name": "python3"
  },
  "language_info": {
   "codemirror_mode": {
    "name": "ipython",
    "version": 3
   },
   "file_extension": ".py",
   "mimetype": "text/x-python",
   "name": "python",
   "nbconvert_exporter": "python",
   "pygments_lexer": "ipython3",
   "version": "3.11.9"
  }
 },
 "nbformat": 4,
 "nbformat_minor": 5
}
