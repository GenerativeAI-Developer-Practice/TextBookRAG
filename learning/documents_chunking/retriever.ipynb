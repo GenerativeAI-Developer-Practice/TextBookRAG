{
 "cells": [
  {
   "cell_type": "code",
   "execution_count": 1,
   "id": "b710a25f",
   "metadata": {},
   "outputs": [],
   "source": [
    "from langchain_text_splitters import RecursiveCharacterTextSplitter\n",
    "def return_chunks(documents):\n",
    "    splitter = RecursiveCharacterTextSplitter(\n",
    "        # Set a really small chunk size, just to show.\n",
    "        chunk_size=100,\n",
    "        chunk_overlap=20,\n",
    "        length_function=len,\n",
    "        is_separator_regex=False,\n",
    "    )\n",
    "    chunks = splitter.split_documents(documents)\n",
    "    return chunks"
   ]
  },
  {
   "cell_type": "code",
   "execution_count": 2,
   "id": "18cc79c8",
   "metadata": {},
   "outputs": [],
   "source": [
    "from langchain_community.document_loaders import PyPDFLoader\n",
    "path = \"data/pdf/newtonlaws.pdf\"\n",
    "loader = PyPDFLoader(path)\n",
    "documents = loader.load()\n",
    "chunks = return_chunks(documents)"
   ]
  },
  {
   "cell_type": "code",
   "execution_count": 3,
   "id": "b3d8c244",
   "metadata": {},
   "outputs": [],
   "source": [
    "from langchain_google_vertexai import VertexAIEmbeddings\n",
    "\n",
    "embeddings = VertexAIEmbeddings(model=\"text-embedding-004\")"
   ]
  },
  {
   "cell_type": "code",
   "execution_count": 4,
   "id": "c2a6b361",
   "metadata": {},
   "outputs": [],
   "source": [
    "from langchain.vectorstores import Chroma"
   ]
  },
  {
   "cell_type": "code",
   "execution_count": 5,
   "id": "4ab25e31",
   "metadata": {},
   "outputs": [],
   "source": [
    "vector_store = Chroma.from_documents(\n",
    "    documents=chunks,\n",
    "    embedding= embeddings,\n",
    "    persist_directory=\"./chroma_db\"\n",
    "\n",
    ")"
   ]
  },
  {
   "cell_type": "code",
   "execution_count": 6,
   "id": "71c9bbee",
   "metadata": {},
   "outputs": [],
   "source": [
    "retriver = vector_store.as_retriever()"
   ]
  },
  {
   "cell_type": "code",
   "execution_count": 7,
   "id": "b32a2af2",
   "metadata": {},
   "outputs": [],
   "source": [
    "results = retriver.invoke(\"what is first law?\")"
   ]
  },
  {
   "cell_type": "code",
   "execution_count": 8,
   "id": "b3708238",
   "metadata": {},
   "outputs": [
    {
     "name": "stdout",
     "output_type": "stream",
     "text": [
      "First Law (Law of Inertia): An object at rest stays at rest, and an object in motion\n",
      "than a car because the car has more mass and, hence, more inertia. \n",
      "Examples of the First Law:\n",
      "accelerate more. \n",
      "Applications of the Second Law:\n",
      "This law highlights the interactions between bodies and the mutual forces they exert on\n"
     ]
    }
   ],
   "source": [
    "for result in results:\n",
    "    print(result.page_content)"
   ]
  },
  {
   "cell_type": "code",
   "execution_count": 10,
   "id": "53bbe01b",
   "metadata": {},
   "outputs": [],
   "source": [
    "results =retriver.invoke(\"What is second law?\")"
   ]
  },
  {
   "cell_type": "code",
   "execution_count": 11,
   "id": "a4ca8732",
   "metadata": {},
   "outputs": [
    {
     "name": "stdout",
     "output_type": "stream",
     "text": [
      "accelerate more. \n",
      "Applications of the Second Law:\n",
      "Second Law (Law of Acceleration): The acceleration of an object is directly\n",
      "direction on object A. \n",
      "Examples of the Third Law:\n",
      "First Law (Law of Inertia): An object at rest stays at rest, and an object in motion\n"
     ]
    }
   ],
   "source": [
    "for result in results:\n",
    "    print(result.page_content)"
   ]
  }
 ],
 "metadata": {
  "kernelspec": {
   "display_name": ".venv",
   "language": "python",
   "name": "python3"
  },
  "language_info": {
   "codemirror_mode": {
    "name": "ipython",
    "version": 3
   },
   "file_extension": ".py",
   "mimetype": "text/x-python",
   "name": "python",
   "nbconvert_exporter": "python",
   "pygments_lexer": "ipython3",
   "version": "3.11.9"
  }
 },
 "nbformat": 4,
 "nbformat_minor": 5
}
