{
 "cells": [
  {
   "cell_type": "markdown",
   "id": "adb88634",
   "metadata": {},
   "source": [
    "# Lanchain chains"
   ]
  },
  {
   "cell_type": "code",
   "execution_count": 1,
   "id": "2996896b",
   "metadata": {},
   "outputs": [
    {
     "name": "stdout",
     "output_type": "stream",
     "text": [
      "Note: you may need to restart the kernel to use updated packages.\n"
     ]
    },
    {
     "name": "stderr",
     "output_type": "stream",
     "text": [
      "\n",
      "[notice] A new release of pip is available: 24.0 -> 25.0.1\n",
      "[notice] To update, run: python.exe -m pip install --upgrade pip\n"
     ]
    }
   ],
   "source": [
    "%pip install -qU \"langchain[google-vertexai]\""
   ]
  },
  {
   "cell_type": "code",
   "execution_count": 2,
   "id": "d9023305",
   "metadata": {},
   "outputs": [],
   "source": [
    "from langchain.chat_models import init_chat_model\n",
    "\n",
    "llm = init_chat_model(\"gemini-2.0-flash-001\", model_provider=\"google_vertexai\")"
   ]
  },
  {
   "cell_type": "code",
   "execution_count": 3,
   "id": "dc390220",
   "metadata": {},
   "outputs": [
    {
     "data": {
      "text/plain": [
       "AIMessage(content='JSON (JavaScript Object Notation) was created by **Douglas Crockford**.\\n', additional_kwargs={}, response_metadata={'is_blocked': False, 'safety_ratings': [], 'usage_metadata': {'prompt_token_count': 4, 'candidates_token_count': 15, 'total_token_count': 19, 'prompt_tokens_details': [{'modality': 1, 'token_count': 4}], 'candidates_tokens_details': [{'modality': 1, 'token_count': 15}], 'cached_content_token_count': 0, 'cache_tokens_details': []}, 'finish_reason': 'STOP', 'avg_logprobs': -0.030983829498291017, 'model_name': 'gemini-2.0-flash-001'}, id='run-6e7ce1c8-06d8-450e-aa36-7d4559c6de71-0', usage_metadata={'input_tokens': 4, 'output_tokens': 15, 'total_tokens': 19})"
      ]
     },
     "execution_count": 3,
     "metadata": {},
     "output_type": "execute_result"
    }
   ],
   "source": [
    "llm.invoke(\"Who create json ?\")"
   ]
  },
  {
   "cell_type": "code",
   "execution_count": 4,
   "id": "54a48906",
   "metadata": {},
   "outputs": [],
   "source": [
    "celebrity_template = \"Which city does {celebrity} hail from ?\""
   ]
  },
  {
   "cell_type": "code",
   "execution_count": 5,
   "id": "3a7a43e3",
   "metadata": {},
   "outputs": [],
   "source": [
    "from langchain_core.prompts import PromptTemplate"
   ]
  },
  {
   "cell_type": "code",
   "execution_count": 9,
   "id": "a55e14ca",
   "metadata": {},
   "outputs": [
    {
     "name": "stdout",
     "output_type": "stream",
     "text": [
      "Which city does Rohit sharma hail from ?\n"
     ]
    }
   ],
   "source": [
    "formatted_prompt = celebrity_template.format(celebrity=\"Rohit sharma\")\n",
    "print(formatted_prompt)"
   ]
  },
  {
   "cell_type": "code",
   "execution_count": 11,
   "id": "593eb365",
   "metadata": {},
   "outputs": [
    {
     "name": "stdout",
     "output_type": "stream",
     "text": [
      "Rohit Sharma hails from **Nagpur, Maharashtra**.\n",
      "\n"
     ]
    }
   ],
   "source": [
    "result = llm.invoke(formatted_prompt)\n",
    "print(result.content)"
   ]
  },
  {
   "cell_type": "code",
   "execution_count": 12,
   "id": "0e495c86",
   "metadata": {},
   "outputs": [],
   "source": [
    "def generate_response(celebrity):\n",
    "    formatted_prompt = celebrity_template.format(celebrity=celebrity)\n",
    "    result = llm.invoke(formatted_prompt)\n",
    "    return result.content"
   ]
  },
  {
   "cell_type": "code",
   "execution_count": 13,
   "id": "47ec3e3e",
   "metadata": {},
   "outputs": [
    {
     "data": {
      "text/plain": [
       "'Virat Kohli was born in Delhi, India.\\n'"
      ]
     },
     "execution_count": 13,
     "metadata": {},
     "output_type": "execute_result"
    }
   ],
   "source": [
    "generate_response('Virat Kohli')"
   ]
  },
  {
   "cell_type": "code",
   "execution_count": 16,
   "id": "d7c8bcbb",
   "metadata": {},
   "outputs": [],
   "source": [
    "# Chain\n",
    "celeb_prompt_temp = PromptTemplate(\n",
    "    input_variables=[\"celebrity\"],\n",
    "    template=celebrity_template\n",
    ")"
   ]
  },
  {
   "cell_type": "code",
   "execution_count": null,
   "id": "48e60649",
   "metadata": {},
   "outputs": [],
   "source": [
    "# creating a chain with celebrity_promt-template and llm\n",
    "chain = celeb_prompt_temp | llm"
   ]
  },
  {
   "cell_type": "code",
   "execution_count": 18,
   "id": "a03122db",
   "metadata": {},
   "outputs": [
    {
     "data": {
      "text/plain": [
       "AIMessage(content='Rahul Dravid hails from **Indore**, Madhya Pradesh, but he grew up in **Bangalore**.\\n', additional_kwargs={}, response_metadata={'is_blocked': False, 'safety_ratings': [], 'usage_metadata': {'prompt_token_count': 9, 'candidates_token_count': 21, 'total_token_count': 30, 'prompt_tokens_details': [{'modality': 1, 'token_count': 9}], 'candidates_tokens_details': [{'modality': 1, 'token_count': 21}], 'cached_content_token_count': 0, 'cache_tokens_details': []}, 'finish_reason': 'STOP', 'avg_logprobs': -0.28089187258765813, 'model_name': 'gemini-2.0-flash-001'}, id='run-fcddf815-2bd0-4ad1-a481-3fc99aeed846-0', usage_metadata={'input_tokens': 9, 'output_tokens': 21, 'total_tokens': 30})"
      ]
     },
     "execution_count": 18,
     "metadata": {},
     "output_type": "execute_result"
    }
   ],
   "source": [
    "chain.invoke({'celebrity': 'Rahul Dravid'})"
   ]
  },
  {
   "cell_type": "code",
   "execution_count": 20,
   "id": "9f792a7d",
   "metadata": {},
   "outputs": [],
   "source": [
    "# Lets write a prompt where we pass the context and ask response to llm\n",
    "context_template = \"\"\"\n",
    "From the context mentioned below\n",
    "{context}\n",
    "\n",
    "Try to simplify the context and explain it as if i'm five\n",
    "\n",
    "\"\"\"\n",
    "\n",
    "\n",
    "context_prompt_template = PromptTemplate(\n",
    "    input_variables=[\"context\"],\n",
    "    template=context_template\n",
    ")\n"
   ]
  },
  {
   "cell_type": "code",
   "execution_count": 23,
   "id": "8ccaaf2a",
   "metadata": {},
   "outputs": [],
   "source": [
    "complext_topic = \"\"\"\n",
    "Inertia is the tendency of an object to resist changes in its state of motion. This means that an object at rest will stay at rest, and an object in motion will continue moving at a constant velocity (same speed and direction) unless acted upon by an external force.\n",
    "\n",
    "Here's a breakdown of the key aspects of inertia:\n",
    "\n",
    "* **Resistance to Change:** Inertia is essentially the \"laziness\" of an object. It doesn't want to start moving if it's still, and it doesn't want to stop or change direction if it's already moving.\n",
    "* **Newton's First Law:** The concept of inertia is formalized in Newton's First Law of Motion, often called the Law of Inertia. It states: \"An object at rest stays at rest and an object in motion stays in motion with the same speed and in the same direction unless acted upon by an unbalanced force.\"\n",
    "* **Mass as a Measure of Inertia:** The more mass an object has, the greater its inertia. It takes more force to change the motion of a more massive object than a less massive one. For example, it's easier to push an empty shopping cart than a full one because the full cart has more mass and therefore more inertia.\n",
    "\n",
    "**Examples of Inertia in Everyday Life:**\n",
    "\n",
    "* When a car suddenly brakes, you feel thrown forward. Your body wants to continue moving at the car's original speed due to inertia.\n",
    "* If you push a heavy box, it resists starting to move due to its inertia. Once you get it moving, it resists stopping.\n",
    "* Dust particles on a carpet stay put when you shake the carpet. The carpet moves, but the dust particles tend to remain in their state of rest and fall off.\n",
    "* A ball rolling on a flat surface will continue to roll until a force like friction or air resistance stops it. In an ideal scenario with no such forces, the ball would roll forever.\n",
    "* When a bus starts moving suddenly, passengers tend to fall backward because their bodies resist the change from rest to motion.\n",
    "\n",
    "Inertia is a fundamental concept in physics that helps explain why objects behave the way they do when forces act upon them. It's the reason why things don't just start moving or stop moving on their own.\n",
    "\"\"\""
   ]
  },
  {
   "cell_type": "code",
   "execution_count": 22,
   "id": "785ca5ef",
   "metadata": {},
   "outputs": [],
   "source": [
    "simplify_chain = context_prompt_template | llm"
   ]
  },
  {
   "cell_type": "code",
   "execution_count": 24,
   "id": "b9c46721",
   "metadata": {},
   "outputs": [
    {
     "name": "stdout",
     "output_type": "stream",
     "text": [
      "Okay, imagine you have a toy car.\n",
      "\n",
      "Inertia is like the car being a little bit lazy!\n",
      "\n",
      "*   If the car is standing still, it wants to keep standing still. It doesn't want to move unless you push it!\n",
      "*   If the car is rolling, it wants to keep rolling in the same direction. It doesn't want to stop or change direction unless something bumps into it or you grab it!\n",
      "\n",
      "The bigger the car, the lazier it is! A tiny toy car is easy to push around, but a big, heavy toy truck is harder because it's more lazy (has more inertia).\n",
      "\n",
      "So, inertia is just a word for how much things like to stay doing whatever they're already doing, whether it's standing still or rolling along! It's why things don't just start moving or stop by themselves. They need a push or a pull!\n",
      "\n"
     ]
    }
   ],
   "source": [
    "result = simplify_chain.invoke({\n",
    "    'context': complext_topic\n",
    "})\n",
    "\n",
    "print(result.content)"
   ]
  },
  {
   "cell_type": "markdown",
   "id": "c860ce57",
   "metadata": {},
   "source": [
    "# Exercise\n",
    "\n",
    "* Take the text for any topic\n",
    "* create a chain and ask llm to give  3 multiple choice questions from context"
   ]
  }
 ],
 "metadata": {
  "kernelspec": {
   "display_name": ".venv",
   "language": "python",
   "name": "python3"
  },
  "language_info": {
   "codemirror_mode": {
    "name": "ipython",
    "version": 3
   },
   "file_extension": ".py",
   "mimetype": "text/x-python",
   "name": "python",
   "nbconvert_exporter": "python",
   "pygments_lexer": "ipython3",
   "version": "3.11.9"
  }
 },
 "nbformat": 4,
 "nbformat_minor": 5
}
