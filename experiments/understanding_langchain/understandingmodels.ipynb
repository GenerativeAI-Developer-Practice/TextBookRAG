{
 "cells": [
  {
   "cell_type": "markdown",
   "id": "0efb50f0",
   "metadata": {},
   "source": [
    "# Understanding models"
   ]
  },
  {
   "cell_type": "code",
   "execution_count": 1,
   "id": "5c4aae3c",
   "metadata": {},
   "outputs": [
    {
     "name": "stdout",
     "output_type": "stream",
     "text": [
      "Collecting langchain\n",
      "  Using cached langchain-0.3.23-py3-none-any.whl.metadata (7.8 kB)\n",
      "Collecting langchain-openai\n",
      "  Using cached langchain_openai-0.3.12-py3-none-any.whl.metadata (2.3 kB)\n",
      "Collecting langchain-core<1.0.0,>=0.3.51 (from langchain)\n",
      "  Using cached langchain_core-0.3.51-py3-none-any.whl.metadata (5.9 kB)\n",
      "Collecting langchain-text-splitters<1.0.0,>=0.3.8 (from langchain)\n",
      "  Using cached langchain_text_splitters-0.3.8-py3-none-any.whl.metadata (1.9 kB)\n",
      "Collecting langsmith<0.4,>=0.1.17 (from langchain)\n",
      "  Using cached langsmith-0.3.31-py3-none-any.whl.metadata (15 kB)\n",
      "Collecting pydantic<3.0.0,>=2.7.4 (from langchain)\n",
      "  Using cached pydantic-2.11.3-py3-none-any.whl.metadata (65 kB)\n",
      "Collecting SQLAlchemy<3,>=1.4 (from langchain)\n",
      "  Using cached sqlalchemy-2.0.40-cp311-cp311-win_amd64.whl.metadata (9.9 kB)\n",
      "Collecting requests<3,>=2 (from langchain)\n",
      "  Using cached requests-2.32.3-py3-none-any.whl.metadata (4.6 kB)\n",
      "Collecting PyYAML>=5.3 (from langchain)\n",
      "  Using cached PyYAML-6.0.2-cp311-cp311-win_amd64.whl.metadata (2.1 kB)\n",
      "Collecting openai<2.0.0,>=1.68.2 (from langchain-openai)\n",
      "  Using cached openai-1.74.0-py3-none-any.whl.metadata (25 kB)\n",
      "Collecting tiktoken<1,>=0.7 (from langchain-openai)\n",
      "  Using cached tiktoken-0.9.0-cp311-cp311-win_amd64.whl.metadata (6.8 kB)\n",
      "Collecting tenacity!=8.4.0,<10.0.0,>=8.1.0 (from langchain-core<1.0.0,>=0.3.51->langchain)\n",
      "  Using cached tenacity-9.1.2-py3-none-any.whl.metadata (1.2 kB)\n",
      "Collecting jsonpatch<2.0,>=1.33 (from langchain-core<1.0.0,>=0.3.51->langchain)\n",
      "  Using cached jsonpatch-1.33-py2.py3-none-any.whl.metadata (3.0 kB)\n",
      "Requirement already satisfied: packaging<25,>=23.2 in c:\\khajaclassroom\\generativeai\\textbookrag\\experiments\\understanding_langchain\\.venv\\lib\\site-packages (from langchain-core<1.0.0,>=0.3.51->langchain) (24.2)\n",
      "Requirement already satisfied: typing-extensions>=4.7 in c:\\khajaclassroom\\generativeai\\textbookrag\\experiments\\understanding_langchain\\.venv\\lib\\site-packages (from langchain-core<1.0.0,>=0.3.51->langchain) (4.13.2)\n",
      "Collecting httpx<1,>=0.23.0 (from langsmith<0.4,>=0.1.17->langchain)\n",
      "  Using cached httpx-0.28.1-py3-none-any.whl.metadata (7.1 kB)\n",
      "Collecting orjson<4.0.0,>=3.9.14 (from langsmith<0.4,>=0.1.17->langchain)\n",
      "  Using cached orjson-3.10.16-cp311-cp311-win_amd64.whl.metadata (42 kB)\n",
      "Collecting requests-toolbelt<2.0.0,>=1.0.0 (from langsmith<0.4,>=0.1.17->langchain)\n",
      "  Using cached requests_toolbelt-1.0.0-py2.py3-none-any.whl.metadata (14 kB)\n",
      "Collecting zstandard<0.24.0,>=0.23.0 (from langsmith<0.4,>=0.1.17->langchain)\n",
      "  Using cached zstandard-0.23.0-cp311-cp311-win_amd64.whl.metadata (3.0 kB)\n",
      "Collecting anyio<5,>=3.5.0 (from openai<2.0.0,>=1.68.2->langchain-openai)\n",
      "  Using cached anyio-4.9.0-py3-none-any.whl.metadata (4.7 kB)\n",
      "Collecting distro<2,>=1.7.0 (from openai<2.0.0,>=1.68.2->langchain-openai)\n",
      "  Using cached distro-1.9.0-py3-none-any.whl.metadata (6.8 kB)\n",
      "Collecting jiter<1,>=0.4.0 (from openai<2.0.0,>=1.68.2->langchain-openai)\n",
      "  Using cached jiter-0.9.0-cp311-cp311-win_amd64.whl.metadata (5.3 kB)\n",
      "Collecting sniffio (from openai<2.0.0,>=1.68.2->langchain-openai)\n",
      "  Using cached sniffio-1.3.1-py3-none-any.whl.metadata (3.9 kB)\n",
      "Collecting tqdm>4 (from openai<2.0.0,>=1.68.2->langchain-openai)\n",
      "  Using cached tqdm-4.67.1-py3-none-any.whl.metadata (57 kB)\n",
      "Collecting annotated-types>=0.6.0 (from pydantic<3.0.0,>=2.7.4->langchain)\n",
      "  Using cached annotated_types-0.7.0-py3-none-any.whl.metadata (15 kB)\n",
      "Collecting pydantic-core==2.33.1 (from pydantic<3.0.0,>=2.7.4->langchain)\n",
      "  Using cached pydantic_core-2.33.1-cp311-cp311-win_amd64.whl.metadata (6.9 kB)\n",
      "Collecting typing-inspection>=0.4.0 (from pydantic<3.0.0,>=2.7.4->langchain)\n",
      "  Using cached typing_inspection-0.4.0-py3-none-any.whl.metadata (2.6 kB)\n",
      "Collecting charset-normalizer<4,>=2 (from requests<3,>=2->langchain)\n",
      "  Using cached charset_normalizer-3.4.1-cp311-cp311-win_amd64.whl.metadata (36 kB)\n",
      "Collecting idna<4,>=2.5 (from requests<3,>=2->langchain)\n",
      "  Using cached idna-3.10-py3-none-any.whl.metadata (10 kB)\n",
      "Collecting urllib3<3,>=1.21.1 (from requests<3,>=2->langchain)\n",
      "  Using cached urllib3-2.4.0-py3-none-any.whl.metadata (6.5 kB)\n",
      "Collecting certifi>=2017.4.17 (from requests<3,>=2->langchain)\n",
      "  Using cached certifi-2025.1.31-py3-none-any.whl.metadata (2.5 kB)\n",
      "Collecting greenlet>=1 (from SQLAlchemy<3,>=1.4->langchain)\n",
      "  Using cached greenlet-3.1.1-cp311-cp311-win_amd64.whl.metadata (3.9 kB)\n",
      "Collecting regex>=2022.1.18 (from tiktoken<1,>=0.7->langchain-openai)\n",
      "  Using cached regex-2024.11.6-cp311-cp311-win_amd64.whl.metadata (41 kB)\n",
      "Collecting httpcore==1.* (from httpx<1,>=0.23.0->langsmith<0.4,>=0.1.17->langchain)\n",
      "  Using cached httpcore-1.0.8-py3-none-any.whl.metadata (21 kB)\n",
      "Collecting h11<0.15,>=0.13 (from httpcore==1.*->httpx<1,>=0.23.0->langsmith<0.4,>=0.1.17->langchain)\n",
      "  Using cached h11-0.14.0-py3-none-any.whl.metadata (8.2 kB)\n",
      "Collecting jsonpointer>=1.9 (from jsonpatch<2.0,>=1.33->langchain-core<1.0.0,>=0.3.51->langchain)\n",
      "  Using cached jsonpointer-3.0.0-py2.py3-none-any.whl.metadata (2.3 kB)\n",
      "Requirement already satisfied: colorama in c:\\khajaclassroom\\generativeai\\textbookrag\\experiments\\understanding_langchain\\.venv\\lib\\site-packages (from tqdm>4->openai<2.0.0,>=1.68.2->langchain-openai) (0.4.6)\n",
      "Using cached langchain-0.3.23-py3-none-any.whl (1.0 MB)\n",
      "Using cached langchain_openai-0.3.12-py3-none-any.whl (61 kB)\n",
      "Using cached langchain_core-0.3.51-py3-none-any.whl (423 kB)\n",
      "Using cached langchain_text_splitters-0.3.8-py3-none-any.whl (32 kB)\n",
      "Using cached langsmith-0.3.31-py3-none-any.whl (358 kB)\n",
      "Using cached openai-1.74.0-py3-none-any.whl (644 kB)\n",
      "Using cached pydantic-2.11.3-py3-none-any.whl (443 kB)\n",
      "Using cached pydantic_core-2.33.1-cp311-cp311-win_amd64.whl (2.0 MB)\n",
      "Using cached PyYAML-6.0.2-cp311-cp311-win_amd64.whl (161 kB)\n",
      "Using cached requests-2.32.3-py3-none-any.whl (64 kB)\n",
      "Using cached sqlalchemy-2.0.40-cp311-cp311-win_amd64.whl (2.1 MB)\n",
      "Using cached tiktoken-0.9.0-cp311-cp311-win_amd64.whl (893 kB)\n",
      "Using cached annotated_types-0.7.0-py3-none-any.whl (13 kB)\n",
      "Using cached anyio-4.9.0-py3-none-any.whl (100 kB)\n",
      "Using cached certifi-2025.1.31-py3-none-any.whl (166 kB)\n",
      "Using cached charset_normalizer-3.4.1-cp311-cp311-win_amd64.whl (102 kB)\n",
      "Using cached distro-1.9.0-py3-none-any.whl (20 kB)\n",
      "Using cached greenlet-3.1.1-cp311-cp311-win_amd64.whl (298 kB)\n",
      "Using cached httpx-0.28.1-py3-none-any.whl (73 kB)\n",
      "Using cached httpcore-1.0.8-py3-none-any.whl (78 kB)\n",
      "Using cached idna-3.10-py3-none-any.whl (70 kB)\n",
      "Using cached jiter-0.9.0-cp311-cp311-win_amd64.whl (210 kB)\n",
      "Using cached jsonpatch-1.33-py2.py3-none-any.whl (12 kB)\n",
      "Using cached orjson-3.10.16-cp311-cp311-win_amd64.whl (133 kB)\n",
      "Using cached regex-2024.11.6-cp311-cp311-win_amd64.whl (274 kB)\n",
      "Using cached requests_toolbelt-1.0.0-py2.py3-none-any.whl (54 kB)\n",
      "Using cached sniffio-1.3.1-py3-none-any.whl (10 kB)\n",
      "Using cached tenacity-9.1.2-py3-none-any.whl (28 kB)\n",
      "Using cached tqdm-4.67.1-py3-none-any.whl (78 kB)\n",
      "Using cached typing_inspection-0.4.0-py3-none-any.whl (14 kB)\n",
      "Using cached urllib3-2.4.0-py3-none-any.whl (128 kB)\n",
      "Using cached zstandard-0.23.0-cp311-cp311-win_amd64.whl (495 kB)\n",
      "Using cached jsonpointer-3.0.0-py2.py3-none-any.whl (7.6 kB)\n",
      "Using cached h11-0.14.0-py3-none-any.whl (58 kB)\n",
      "Installing collected packages: zstandard, urllib3, typing-inspection, tqdm, tenacity, sniffio, regex, PyYAML, pydantic-core, orjson, jsonpointer, jiter, idna, h11, greenlet, distro, charset-normalizer, certifi, annotated-types, SQLAlchemy, requests, pydantic, jsonpatch, httpcore, anyio, tiktoken, requests-toolbelt, httpx, openai, langsmith, langchain-core, langchain-text-splitters, langchain-openai, langchain\n",
      "Successfully installed PyYAML-6.0.2 SQLAlchemy-2.0.40 annotated-types-0.7.0 anyio-4.9.0 certifi-2025.1.31 charset-normalizer-3.4.1 distro-1.9.0 greenlet-3.1.1 h11-0.14.0 httpcore-1.0.8 httpx-0.28.1 idna-3.10 jiter-0.9.0 jsonpatch-1.33 jsonpointer-3.0.0 langchain-0.3.23 langchain-core-0.3.51 langchain-openai-0.3.12 langchain-text-splitters-0.3.8 langsmith-0.3.31 openai-1.74.0 orjson-3.10.16 pydantic-2.11.3 pydantic-core-2.33.1 regex-2024.11.6 requests-2.32.3 requests-toolbelt-1.0.0 sniffio-1.3.1 tenacity-9.1.2 tiktoken-0.9.0 tqdm-4.67.1 typing-inspection-0.4.0 urllib3-2.4.0 zstandard-0.23.0\n",
      "Note: you may need to restart the kernel to use updated packages.\n"
     ]
    },
    {
     "name": "stderr",
     "output_type": "stream",
     "text": [
      "\n",
      "[notice] A new release of pip is available: 24.0 -> 25.0.1\n",
      "[notice] To update, run: python.exe -m pip install --upgrade pip\n"
     ]
    }
   ],
   "source": [
    "%pip install langchain langchain-openai"
   ]
  },
  {
   "cell_type": "code",
   "execution_count": 3,
   "id": "7ca08867",
   "metadata": {},
   "outputs": [],
   "source": [
    "import os"
   ]
  },
  {
   "cell_type": "code",
   "execution_count": 4,
   "id": "59f8aa93",
   "metadata": {},
   "outputs": [],
   "source": [
    "API_TOKEN = os.environ.get('OPENAI_API_KEY')"
   ]
  },
  {
   "cell_type": "code",
   "execution_count": 7,
   "id": "f0aa5aa0",
   "metadata": {},
   "outputs": [],
   "source": [
    "from langchain_openai import OpenAI\n",
    "\n",
    "llm = OpenAI()\n"
   ]
  },
  {
   "cell_type": "code",
   "execution_count": 8,
   "id": "8bffa1e6",
   "metadata": {},
   "outputs": [],
   "source": [
    "response = llm(prompt=\"What is capital of India?\")"
   ]
  },
  {
   "cell_type": "code",
   "execution_count": 10,
   "id": "c6dd4d1c",
   "metadata": {},
   "outputs": [
    {
     "name": "stdout",
     "output_type": "stream",
     "text": [
      "\n",
      "\n",
      "The capital of India is New Delhi.\n"
     ]
    }
   ],
   "source": [
    "print(response)"
   ]
  },
  {
   "cell_type": "code",
   "execution_count": 11,
   "id": "fc6d0b47",
   "metadata": {},
   "outputs": [],
   "source": [
    "from langchain_core.prompts import PromptTemplate"
   ]
  },
  {
   "cell_type": "code",
   "execution_count": 13,
   "id": "22e116b4",
   "metadata": {},
   "outputs": [],
   "source": [
    "prompt_template = PromptTemplate.from_template(\"What is capital of {country}?\")"
   ]
  },
  {
   "cell_type": "code",
   "execution_count": null,
   "id": "383c4184",
   "metadata": {},
   "outputs": [],
   "source": [
    "prompt_template.invoke({'country': 'France'})"
   ]
  },
  {
   "cell_type": "code",
   "execution_count": 16,
   "id": "7a515a81",
   "metadata": {},
   "outputs": [
    {
     "data": {
      "text/plain": [
       "'\\nనేను ప్రోగ్రమింగ్ ని ప్రేమిస్తున్నాను. (Nēnu prōgrāming ni prēmistunnānu.)'"
      ]
     },
     "execution_count": 16,
     "metadata": {},
     "output_type": "execute_result"
    }
   ],
   "source": [
    "from langchain_core.prompts import PromptTemplate\n",
    "\n",
    "prompt = PromptTemplate.from_template(\"How to say {input} in {output_language}:\\n\")\n",
    "\n",
    "chain = prompt | llm\n",
    "chain.invoke(\n",
    "    {\n",
    "        \"output_language\": \"Telugu\",\n",
    "        \"input\": \"I love programming.\",\n",
    "    }\n",
    ")"
   ]
  },
  {
   "cell_type": "code",
   "execution_count": 1,
   "id": "8b5dcb22",
   "metadata": {},
   "outputs": [],
   "source": [
    "# Chat Model\n",
    "model = \"gpt-4o-mini\"\n",
    "model_provder = \"openai\""
   ]
  },
  {
   "cell_type": "code",
   "execution_count": 2,
   "id": "99dc108d",
   "metadata": {},
   "outputs": [],
   "source": [
    "from langchain.chat_models import init_chat_model"
   ]
  },
  {
   "cell_type": "code",
   "execution_count": 3,
   "id": "fb91b459",
   "metadata": {},
   "outputs": [],
   "source": [
    "from langchain_core.messages import HumanMessage, SystemMessage"
   ]
  },
  {
   "cell_type": "code",
   "execution_count": 4,
   "id": "b202a009",
   "metadata": {},
   "outputs": [],
   "source": [
    "messages = [\n",
    "    SystemMessage(\"You are an English Poet\"), \n",
    "    HumanMessage(\"Write a Poem on Early Sunrise\")\n",
    "    ]"
   ]
  },
  {
   "cell_type": "code",
   "execution_count": 5,
   "id": "b621541f",
   "metadata": {},
   "outputs": [],
   "source": [
    "chat_model = init_chat_model(model=model, model_provider=model_provder)"
   ]
  },
  {
   "cell_type": "code",
   "execution_count": 6,
   "id": "0b1994a0",
   "metadata": {},
   "outputs": [],
   "source": [
    "response = chat_model.invoke(messages)"
   ]
  },
  {
   "cell_type": "code",
   "execution_count": 7,
   "id": "ccc951f1",
   "metadata": {},
   "outputs": [
    {
     "data": {
      "text/plain": [
       "AIMessage(content='In whispers soft, a blush unfurls,  \\nThe dawn awakes, as night gently swirls,  \\nA canvas painted in hues of gold,  \\nA promise of warmth in the morning bold.  \\n\\nThe sky ignites, a symphony bright,  \\nA brush of lavender, a touch of light,  \\nBirds take flight on wings of grace,  \\nAs the sun peeks in for its daily embrace.  \\n\\nThe dew-kissed grass, a silken sheet,  \\nBeneath the rise of a world so sweet,  \\nEach blade a jewel, each drop a tear,  \\nReflections of dreams that linger near.  \\n\\nThe air, imbued with the scent of pine,  \\nWhispers of secrets, both yours and mine,  \\nThe chill of night, a fading ghost,  \\nAs warmth spills forth, we drink and boast.  \\n\\nOh, to witness the day’s first breath,  \\nIn this sacred hour, we find no death,  \\nFor in the promise of morning’s grace,  \\nLies hope anew, a chance to chase.  \\n\\nSo linger not, for the sun will climb,  \\nEmbrace the day, let the heart find rhyme,  \\nIn early sunrise, we dance with fate,  \\nWith every light, we rejuvenate.  ', additional_kwargs={'refusal': None}, response_metadata={'token_usage': {'completion_tokens': 259, 'prompt_tokens': 23, 'total_tokens': 282, 'completion_tokens_details': {'accepted_prediction_tokens': 0, 'audio_tokens': 0, 'reasoning_tokens': 0, 'rejected_prediction_tokens': 0}, 'prompt_tokens_details': {'audio_tokens': 0, 'cached_tokens': 0}}, 'model_name': 'gpt-4o-mini-2024-07-18', 'system_fingerprint': 'fp_44added55e', 'id': 'chatcmpl-BMpItOUNS0VJIsgKLi3iYoqb7HPxG', 'finish_reason': 'stop', 'logprobs': None}, id='run-17771b53-1ad4-48fa-b302-1a2c0e2ed30a-0', usage_metadata={'input_tokens': 23, 'output_tokens': 259, 'total_tokens': 282, 'input_token_details': {'audio': 0, 'cache_read': 0}, 'output_token_details': {'audio': 0, 'reasoning': 0}})"
      ]
     },
     "execution_count": 7,
     "metadata": {},
     "output_type": "execute_result"
    }
   ],
   "source": [
    "response"
   ]
  },
  {
   "cell_type": "code",
   "execution_count": 8,
   "id": "9d81c425",
   "metadata": {},
   "outputs": [
    {
     "name": "stdout",
     "output_type": "stream",
     "text": [
      "In whispers soft, a blush unfurls,  \n",
      "The dawn awakes, as night gently swirls,  \n",
      "A canvas painted in hues of gold,  \n",
      "A promise of warmth in the morning bold.  \n",
      "\n",
      "The sky ignites, a symphony bright,  \n",
      "A brush of lavender, a touch of light,  \n",
      "Birds take flight on wings of grace,  \n",
      "As the sun peeks in for its daily embrace.  \n",
      "\n",
      "The dew-kissed grass, a silken sheet,  \n",
      "Beneath the rise of a world so sweet,  \n",
      "Each blade a jewel, each drop a tear,  \n",
      "Reflections of dreams that linger near.  \n",
      "\n",
      "The air, imbued with the scent of pine,  \n",
      "Whispers of secrets, both yours and mine,  \n",
      "The chill of night, a fading ghost,  \n",
      "As warmth spills forth, we drink and boast.  \n",
      "\n",
      "Oh, to witness the day’s first breath,  \n",
      "In this sacred hour, we find no death,  \n",
      "For in the promise of morning’s grace,  \n",
      "Lies hope anew, a chance to chase.  \n",
      "\n",
      "So linger not, for the sun will climb,  \n",
      "Embrace the day, let the heart find rhyme,  \n",
      "In early sunrise, we dance with fate,  \n",
      "With every light, we rejuvenate.  \n"
     ]
    }
   ],
   "source": [
    "print(response.content)"
   ]
  },
  {
   "cell_type": "code",
   "execution_count": 10,
   "id": "fcb4a465",
   "metadata": {},
   "outputs": [],
   "source": [
    "messages = [\n",
    "    SystemMessage(\"You are an Telugu Poet\"), \n",
    "    HumanMessage(\"Write a Poem on Full moon day in Telugu\")\n",
    "    ]"
   ]
  },
  {
   "cell_type": "code",
   "execution_count": 12,
   "id": "ad9a39c7",
   "metadata": {},
   "outputs": [],
   "source": [
    "response = chat_model.invoke(messages)"
   ]
  },
  {
   "cell_type": "code",
   "execution_count": 13,
   "id": "58eb42f3",
   "metadata": {},
   "outputs": [
    {
     "name": "stdout",
     "output_type": "stream",
     "text": [
      "পূর্ণ చంద్రుడి రోజు  \n",
      "\n",
      "చంద్రుడి ప్రగాఢ కాంతి, చైతన్యాన్ను ప్రసరించు,  \n",
      "నింగిలో మెరిసే తారలు, మనసుకు మోజు కల్పించు.  \n",
      "చందమామ మధురంగా, పల్లకిలో పాడుతూ,  \n",
      "ప్రతి గాథ కధ కధలా, అందల రంజనలో వేస్తూ.  \n",
      "\n",
      "శారద కవితలు స్పన్నంగా, నక్షత్రాల మైదానంలో,  \n",
      "నరనారికల హృదయాల్ని, కలపును చెలిమెలో.  \n",
      "చుక్కల జోడిగా కలిసి, ప్రేమంచు పుష్పాలు పూయు,  \n",
      "నిన్ను చూస్తే మనసు కంపించు, సంకేతాల రాగం మొదలు.  \n",
      "\n",
      "నల్ల రాత్రి ఒడిలో, ఏకాంతం పొదుపై కుటు,  \n",
      "చంద్రమౌళి అందాలకు, నవశక్తి పంచమున జను.  \n",
      "ఈ చరితానంద శీలం, నిరాంగ Maio సౌందర్యం,  \n",
      "చందమామ చెలమడగా, సౌందర్యం పంచుతుంది కను.  \n",
      "\n",
      "తెల్లని పెదవులు చాటున, మిఠాయి మాట్లాడుకున్నాను,  \n",
      "చంద్రముఖీ బంధువా, నీ అందాన్ని క్షుణ్ణంగా గమనించాను.  \n",
      "కులరి కురలలోకి, నా హృదయం జారితెరువుకి,  \n",
      "ఈ పూర్తి చంద్రుడి రోజున, ప్రేమను అన్నంత మెరుస్తున్నది.  \n"
     ]
    }
   ],
   "source": [
    "print(response.content)"
   ]
  },
  {
   "cell_type": "code",
   "execution_count": null,
   "id": "5bceba42",
   "metadata": {},
   "outputs": [],
   "source": [
    "# Integrate Chat Model with Prompt Template\n",
    "\n",
    "from langchain_core.prompts import PromptTemplate\n",
    "\n",
    "template = \"\"\"\n",
    "I want you to look at the following text\n",
    "{context}\n",
    "\n",
    "and Translate it in telugu\n",
    "\"\"\"\n",
    "\n",
    "prompt = PromptTemplate.from_template(template=template)\n",
    "context = \"According to the Oxford English Dictionary (2009), the name India is derived from the Classical Latin India, a reference to South Asia and an uncertain region to its east. In turn India derived successively from Hellenistic Greek India (Ἰνδία), Ancient Greek Indos (Ἰνδός), Old Persian Hindush (an eastern province of the Achaemenid Empire), and ultimately its cognate, the Sanskrit Sindhu, or 'river'—specifically the Indus River, and by extension its well-settled southern basin.[72][73] The Ancient Greeks referred to the Indians as Indoi, 'the people of the Indus'.[74] The term Bharat (Bhārat; pronounced [ˈbʱaːɾət] ⓘ), mentioned in both Indian epic poetry and the Constitution of India,[75][76] is used in its variations by many Indian languages. A modern rendering of the historical name Bharatavarsha, which applied originally to North India,[77][78] Bharat gained increased currency from the mid-19th century as a native name for India.[75][79] Hindustan ([ɦɪndʊˈstaːn] ⓘ) is a Middle Persian name for India that became popular by the 13th century,[80] and was used widely since the era of the Mughal Empire. The meaning of Hindustan has varied, referring to a region encompassing the northern Indian subcontinent (present-day northern India and Pakistan) or to India in its near entirety.[75][79][81]\"\n",
    "chain = prompt | chat_model\n",
    "response = chain.invoke({\n",
    "    \"context\" : \"According to the Oxford English Dictionary (2009), the name India is derived from the Classical Latin India, a reference to South Asia and an uncertain region to its east. In turn India derived successively from Hellenistic Greek India (Ἰνδία), Ancient Greek Indos (Ἰνδός), Old Persian Hindush (an eastern province of the Achaemenid Empire), and ultimately its cognate, the Sanskrit Sindhu, or 'river'—specifically the Indus River, and by extension its well-settled southern basin.[72][73] The Ancient Greeks referred to the Indians as Indoi, 'the people of the Indus'.[74] The term Bharat (Bhārat; pronounced [ˈbʱaːɾət] ⓘ), mentioned in both Indian epic poetry and the Constitution of India,[75][76] is used in its variations by many Indian languages. A modern rendering of the historical name Bharatavarsha, which applied originally to North India,[77][78] Bharat gained increased currency from the mid-19th century as a native name for India.[75][79] Hindustan ([ɦɪndʊˈstaːn] ⓘ) is a Middle Persian name for India that became popular by the 13th century,[80] and was used widely since the era of the Mughal Empire. The meaning of Hindustan has varied, referring to a region encompassing the northern Indian subcontinent (present-day northern India and Pakistan) or to India in its near entirety.[75][79][81]\"\n",
    "})\n",
    "\n"
   ]
  },
  {
   "cell_type": "code",
   "execution_count": 26,
   "id": "e12567d0",
   "metadata": {},
   "outputs": [
    {
     "name": "stdout",
     "output_type": "stream",
     "text": [
      "Here is the translation of the provided text in Telugu:\n",
      "\n",
      "ఆక్స్ఫర్డ్ ఇంగ్లిష్ డిక్షనరీ (2009) ప్రకారం, భారత్ అనేది క్లాసికల్ లాటిన్ 'ఇండియా' నుండి ఉత్తమమైనది, ఇది దక్షిణ ఆసియాను మరియు దాని ఈశాన్యంలోని అనిశ్చిత ప్రాంతాన్ని సూచిస్తుంది. మరోవైపు, భారతదేశం హెలెనిస్టిక్ గ్రీక్ 'ఇండియా' (Ἰνδία), ప్రాచీన గ్రీక్ 'ఇండోస్' (Ἰνδός), ప్రాచీన ఈరానీ 'హిందుష్' (ఆకాశమిందు సామ్రాజ్యంలోని తూర్పుభాగం), మరియు ఆఖరుగా సంస్కృతంలో 'సిందు' (Sindhu) నుండి రచించబడింది, అంటే 'నది'— ప్రత్యేకంగా ఇండ్ నది, మరియు దీని బదులు, దక్షిణ మునుపటి శ్రేణిని తేలికగా అనుసరించింది. ప్రాచీన గ్రీకు ప్రజలు భారతీయులను 'ఇండోయ్' అని పిలిచారు, అంటే 'ఇండ్ నది ప్రజలు'. 'భారత' (భారత్; ఉచ్చారణ [ˈbʱaːɾət]), భారతీయ эпిక్ కవితలు మరియు భారత రాజ్యాంగంలో ప్రస్తావించబడింది, అనేక భారతీయ భాషల్లో వివిధ రూపాల్లో ఉపయోగించబడుతుంది. చారిత్రిక పేరుగా ఉన్న 'భారతవర్ష' అనే పేరును ఆధునిక సరిహద్దులు అప్పటికల్లా ఇచ్చినవి, ఇది మొదటగా ఉత్తర భారతదేశానికి వర్తించేది, భారతము యునానీయమైన పేరు గా మధ్య-19వ శతాబ్దం నుంచి పంచుకోవడం ప్రారంభించింది. 'హిందిస్తాన్' ([ɦɪndʊˈstaːn]) ఒక మధ్య పర్షియన్ పేరు, ఇది 13వ శతాబ్దానికి ప్రసిద్ధిని చెందింది, మరియు మగల్ సామ్రాజ్య కాలంలో విస్తృతంగా ఉపయోగించబడింది. 'హిందిస్తాన్' యొక్క అర్థం మారుతూ ఉంటుందని, ఇది ఉత్తర భారత ఉపఖండాలను (ప్రస్తుత ఉత్తర భారతదేశం మరియు పాకిస్తాన్) లేదా భారతదేశాన్ని దాని సమీప విస్తృతంలో సూచిస్తుంది. \n",
      "\n",
      "Please feel free to ask if you need any further modifications or have any other requests!\n"
     ]
    }
   ],
   "source": [
    "print(response.content)"
   ]
  }
 ],
 "metadata": {
  "kernelspec": {
   "display_name": ".venv",
   "language": "python",
   "name": "python3"
  },
  "language_info": {
   "codemirror_mode": {
    "name": "ipython",
    "version": 3
   },
   "file_extension": ".py",
   "mimetype": "text/x-python",
   "name": "python",
   "nbconvert_exporter": "python",
   "pygments_lexer": "ipython3",
   "version": "3.11.9"
  }
 },
 "nbformat": 4,
 "nbformat_minor": 5
}
