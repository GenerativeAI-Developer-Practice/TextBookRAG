{
 "cells": [
  {
   "cell_type": "code",
   "execution_count": 8,
   "id": "27279d16",
   "metadata": {},
   "outputs": [],
   "source": [
    "from langchain_core.runnables import Runnable, RunnableConfig"
   ]
  },
  {
   "cell_type": "code",
   "execution_count": 2,
   "id": "acf92b54",
   "metadata": {},
   "outputs": [],
   "source": [
    "from langchain_core.runnables import RunnableLambda"
   ]
  },
  {
   "cell_type": "code",
   "execution_count": 4,
   "id": "88afdb26",
   "metadata": {},
   "outputs": [],
   "source": [
    "runnable = RunnableLambda(lambda x: x+2)"
   ]
  },
  {
   "cell_type": "code",
   "execution_count": 5,
   "id": "cabe24e4",
   "metadata": {},
   "outputs": [
    {
     "name": "stdout",
     "output_type": "stream",
     "text": [
      "12\n"
     ]
    }
   ],
   "source": [
    "response = runnable.invoke(10)\n",
    "print(response)"
   ]
  },
  {
   "cell_type": "code",
   "execution_count": 6,
   "id": "35389bfb",
   "metadata": {},
   "outputs": [],
   "source": [
    "def increment_by_two(x: int) -> int:\n",
    "    return x + 2"
   ]
  },
  {
   "cell_type": "code",
   "execution_count": 7,
   "id": "41478e87",
   "metadata": {},
   "outputs": [],
   "source": [
    "def fake_llm(x: int) -> str:\n",
    "    return f\"Result: {x}\""
   ]
  },
  {
   "cell_type": "code",
   "execution_count": 9,
   "id": "e92b410c",
   "metadata": {},
   "outputs": [],
   "source": [
    "from typing import Optional"
   ]
  },
  {
   "cell_type": "code",
   "execution_count": 10,
   "id": "a2ff43c3",
   "metadata": {},
   "outputs": [],
   "source": [
    "class MyFirstChain(Runnable[int,str]):\n",
    "    def invoke(self, input:int, config :Optional[RunnableConfig] = None, **kwargs):\n",
    "        increment = increment_by_two(input)\n",
    "        return fake_llm(increment)"
   ]
  },
  {
   "cell_type": "code",
   "execution_count": 11,
   "id": "1b22c743",
   "metadata": {},
   "outputs": [
    {
     "name": "stdout",
     "output_type": "stream",
     "text": [
      "Result: 12\n"
     ]
    }
   ],
   "source": [
    "runnable = MyFirstChain()\n",
    "response = runnable.invoke(10)\n",
    "print(response)"
   ]
  },
  {
   "cell_type": "code",
   "execution_count": 12,
   "id": "b0f3b326",
   "metadata": {},
   "outputs": [],
   "source": [
    "chain = ( RunnableLambda(increment_by_two) | RunnableLambda(fake_llm) )"
   ]
  },
  {
   "cell_type": "code",
   "execution_count": 13,
   "id": "3fcc7425",
   "metadata": {},
   "outputs": [
    {
     "data": {
      "text/plain": [
       "'Result: 12'"
      ]
     },
     "execution_count": 13,
     "metadata": {},
     "output_type": "execute_result"
    }
   ],
   "source": [
    "chain.invoke(10)"
   ]
  }
 ],
 "metadata": {
  "kernelspec": {
   "display_name": ".venv",
   "language": "python",
   "name": "python3"
  },
  "language_info": {
   "codemirror_mode": {
    "name": "ipython",
    "version": 3
   },
   "file_extension": ".py",
   "mimetype": "text/x-python",
   "name": "python",
   "nbconvert_exporter": "python",
   "pygments_lexer": "ipython3",
   "version": "3.11.9"
  }
 },
 "nbformat": 4,
 "nbformat_minor": 5
}
