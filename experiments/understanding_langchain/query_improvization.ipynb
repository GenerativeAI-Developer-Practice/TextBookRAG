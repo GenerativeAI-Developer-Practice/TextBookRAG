{
 "cells": [
  {
   "cell_type": "code",
   "execution_count": 9,
   "id": "6e932303",
   "metadata": {},
   "outputs": [],
   "source": [
    "from langchain_google_vertexai import VertexAIEmbeddings"
   ]
  },
  {
   "cell_type": "code",
   "execution_count": 8,
   "id": "55f53e2c",
   "metadata": {},
   "outputs": [],
   "source": [
    "from langchain.vectorstores import Chroma"
   ]
  },
  {
   "cell_type": "code",
   "execution_count": 7,
   "id": "851807c2",
   "metadata": {},
   "outputs": [],
   "source": [
    "from langchain.chat_models import init_chat_model\n",
    "\n",
    "model = init_chat_model(\"gemini-2.0-flash-001\", model_provider=\"google_vertexai\")"
   ]
  },
  {
   "cell_type": "code",
   "execution_count": 4,
   "id": "0d2c885f",
   "metadata": {},
   "outputs": [],
   "source": [
    "question = \"Hello, How are you doing, Howz the day today and What is Newtons law of motion\""
   ]
  },
  {
   "cell_type": "code",
   "execution_count": 2,
   "id": "2bd28dac",
   "metadata": {},
   "outputs": [],
   "source": [
    "from langchain_core.prompts import PromptTemplate"
   ]
  },
  {
   "cell_type": "code",
   "execution_count": 18,
   "id": "5c160e13",
   "metadata": {},
   "outputs": [],
   "source": [
    "template = \"\"\"Improvise the following question {question} to enhance retrieval from the vector store which has science textbook\n",
    "just give the question as response, dont add any other content and question should not be greater than 10 words\n",
    "\"\"\"\n",
    "\n",
    "prompt = PromptTemplate.from_template(template)"
   ]
  },
  {
   "cell_type": "code",
   "execution_count": 19,
   "id": "1588c06d",
   "metadata": {},
   "outputs": [],
   "source": [
    "refine_chain = prompt | model"
   ]
  },
  {
   "cell_type": "code",
   "execution_count": 20,
   "id": "271de9b9",
   "metadata": {},
   "outputs": [],
   "source": [
    "result = refine_chain.invoke({'question': question})"
   ]
  },
  {
   "cell_type": "code",
   "execution_count": 21,
   "id": "54781034",
   "metadata": {},
   "outputs": [
    {
     "name": "stdout",
     "output_type": "stream",
     "text": [
      "Explain Newton's Laws of Motion with real-world examples.\n",
      "\n"
     ]
    }
   ],
   "source": [
    "print(result.content)"
   ]
  }
 ],
 "metadata": {
  "kernelspec": {
   "display_name": ".venv",
   "language": "python",
   "name": "python3"
  },
  "language_info": {
   "codemirror_mode": {
    "name": "ipython",
    "version": 3
   },
   "file_extension": ".py",
   "mimetype": "text/x-python",
   "name": "python",
   "nbconvert_exporter": "python",
   "pygments_lexer": "ipython3",
   "version": "3.11.9"
  }
 },
 "nbformat": 4,
 "nbformat_minor": 5
}
