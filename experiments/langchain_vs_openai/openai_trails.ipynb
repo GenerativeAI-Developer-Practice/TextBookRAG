{
 "cells": [
  {
   "cell_type": "markdown",
   "id": "bb0a4b9c",
   "metadata": {},
   "source": [
    "# Install open ai libraries"
   ]
  },
  {
   "cell_type": "code",
   "execution_count": 1,
   "id": "70bd2d7b",
   "metadata": {},
   "outputs": [
    {
     "name": "stdout",
     "output_type": "stream",
     "text": [
      "Requirement already satisfied: openai in c:\\khajaclassroom\\generativeai\\textbookrag\\experiments\\langchain_vs_openai\\.venv\\lib\\site-packages (1.73.0)\n",
      "Requirement already satisfied: anyio<5,>=3.5.0 in c:\\khajaclassroom\\generativeai\\textbookrag\\experiments\\langchain_vs_openai\\.venv\\lib\\site-packages (from openai) (4.9.0)\n",
      "Requirement already satisfied: distro<2,>=1.7.0 in c:\\khajaclassroom\\generativeai\\textbookrag\\experiments\\langchain_vs_openai\\.venv\\lib\\site-packages (from openai) (1.9.0)\n",
      "Requirement already satisfied: httpx<1,>=0.23.0 in c:\\khajaclassroom\\generativeai\\textbookrag\\experiments\\langchain_vs_openai\\.venv\\lib\\site-packages (from openai) (0.28.1)\n",
      "Requirement already satisfied: jiter<1,>=0.4.0 in c:\\khajaclassroom\\generativeai\\textbookrag\\experiments\\langchain_vs_openai\\.venv\\lib\\site-packages (from openai) (0.9.0)\n",
      "Requirement already satisfied: pydantic<3,>=1.9.0 in c:\\khajaclassroom\\generativeai\\textbookrag\\experiments\\langchain_vs_openai\\.venv\\lib\\site-packages (from openai) (2.11.3)\n",
      "Requirement already satisfied: sniffio in c:\\khajaclassroom\\generativeai\\textbookrag\\experiments\\langchain_vs_openai\\.venv\\lib\\site-packages (from openai) (1.3.1)\n",
      "Requirement already satisfied: tqdm>4 in c:\\khajaclassroom\\generativeai\\textbookrag\\experiments\\langchain_vs_openai\\.venv\\lib\\site-packages (from openai) (4.67.1)\n",
      "Requirement already satisfied: typing-extensions<5,>=4.11 in c:\\khajaclassroom\\generativeai\\textbookrag\\experiments\\langchain_vs_openai\\.venv\\lib\\site-packages (from openai) (4.13.2)\n",
      "Requirement already satisfied: idna>=2.8 in c:\\khajaclassroom\\generativeai\\textbookrag\\experiments\\langchain_vs_openai\\.venv\\lib\\site-packages (from anyio<5,>=3.5.0->openai) (3.10)\n",
      "Requirement already satisfied: certifi in c:\\khajaclassroom\\generativeai\\textbookrag\\experiments\\langchain_vs_openai\\.venv\\lib\\site-packages (from httpx<1,>=0.23.0->openai) (2025.1.31)\n",
      "Requirement already satisfied: httpcore==1.* in c:\\khajaclassroom\\generativeai\\textbookrag\\experiments\\langchain_vs_openai\\.venv\\lib\\site-packages (from httpx<1,>=0.23.0->openai) (1.0.8)\n",
      "Requirement already satisfied: h11<0.15,>=0.13 in c:\\khajaclassroom\\generativeai\\textbookrag\\experiments\\langchain_vs_openai\\.venv\\lib\\site-packages (from httpcore==1.*->httpx<1,>=0.23.0->openai) (0.14.0)\n",
      "Requirement already satisfied: annotated-types>=0.6.0 in c:\\khajaclassroom\\generativeai\\textbookrag\\experiments\\langchain_vs_openai\\.venv\\lib\\site-packages (from pydantic<3,>=1.9.0->openai) (0.7.0)\n",
      "Requirement already satisfied: pydantic-core==2.33.1 in c:\\khajaclassroom\\generativeai\\textbookrag\\experiments\\langchain_vs_openai\\.venv\\lib\\site-packages (from pydantic<3,>=1.9.0->openai) (2.33.1)\n",
      "Requirement already satisfied: typing-inspection>=0.4.0 in c:\\khajaclassroom\\generativeai\\textbookrag\\experiments\\langchain_vs_openai\\.venv\\lib\\site-packages (from pydantic<3,>=1.9.0->openai) (0.4.0)\n",
      "Requirement already satisfied: colorama in c:\\khajaclassroom\\generativeai\\textbookrag\\experiments\\langchain_vs_openai\\.venv\\lib\\site-packages (from tqdm>4->openai) (0.4.6)\n",
      "Note: you may need to restart the kernel to use updated packages.\n"
     ]
    },
    {
     "name": "stderr",
     "output_type": "stream",
     "text": [
      "\n",
      "[notice] A new release of pip is available: 24.0 -> 25.0.1\n",
      "[notice] To update, run: python.exe -m pip install --upgrade pip\n"
     ]
    }
   ],
   "source": [
    "%pip install openai"
   ]
  },
  {
   "cell_type": "code",
   "execution_count": 2,
   "id": "d224a54b",
   "metadata": {},
   "outputs": [],
   "source": [
    "import os"
   ]
  },
  {
   "cell_type": "code",
   "execution_count": 3,
   "id": "4e5c59c1",
   "metadata": {},
   "outputs": [],
   "source": [
    "OPENAI_API_KEY = os.environ.get('OPENAI_API_KEY')"
   ]
  },
  {
   "cell_type": "code",
   "execution_count": 4,
   "id": "6b7131e8",
   "metadata": {},
   "outputs": [],
   "source": [
    "import openai"
   ]
  },
  {
   "cell_type": "code",
   "execution_count": 5,
   "id": "45b04d72",
   "metadata": {},
   "outputs": [],
   "source": [
    "from openai import OpenAI"
   ]
  },
  {
   "cell_type": "code",
   "execution_count": 6,
   "id": "d3328a9e",
   "metadata": {},
   "outputs": [],
   "source": [
    "client = OpenAI(api_key=os.environ.get('OPENAI_API_KEY'))"
   ]
  },
  {
   "cell_type": "code",
   "execution_count": 7,
   "id": "473f4f7a",
   "metadata": {},
   "outputs": [
    {
     "data": {
      "text/plain": [
       "openai.OpenAI"
      ]
     },
     "execution_count": 7,
     "metadata": {},
     "output_type": "execute_result"
    }
   ],
   "source": [
    "type(client)"
   ]
  },
  {
   "cell_type": "code",
   "execution_count": 10,
   "id": "73f4865f",
   "metadata": {},
   "outputs": [],
   "source": [
    "response = client.responses.create(\n",
    "  model=\"gpt-4o-mini\",\n",
    "  input=\"What is langchain?\"\n",
    ")"
   ]
  },
  {
   "cell_type": "code",
   "execution_count": 12,
   "id": "c77c4217",
   "metadata": {},
   "outputs": [
    {
     "name": "stdout",
     "output_type": "stream",
     "text": [
      "LangChain is a framework designed for building applications using language models. It provides tools and components that facilitate the development of complex applications involving natural language processing (NLP). Here are some key features of LangChain:\n",
      "\n",
      "1. **Modular Components**: LangChain consists of various modular components that can be easily combined. These include prompts, memory, agents, and chains, allowing developers to create custom workflows.\n",
      "\n",
      "2. **Ease of Integration**: The framework is designed to work seamlessly with different language models, making it easier to integrate various NLP capabilities into applications.\n",
      "\n",
      "3. **Chain Management**: LangChain allows for the chaining of different NLP tasks. For example, you could start with a retrieval task and then feed the results into a generation task.\n",
      "\n",
      "4. **Memory Management**: The framework includes tools for managing state and context, which can be useful in conversational applications where maintaining context is important.\n",
      "\n",
      "5. **Interactivity**: LangChain supports building interactive applications, enabling real-time communication and response generation.\n",
      "\n",
      "Overall, LangChain aims to streamline the process of creating sophisticated language-based applications, making it easier for developers to leverage advanced NLP capabilities.\n"
     ]
    }
   ],
   "source": [
    "print(response.output[0].content[0].text)"
   ]
  },
  {
   "cell_type": "code",
   "execution_count": 14,
   "id": "045e6df6",
   "metadata": {},
   "outputs": [
    {
     "name": "stdout",
     "output_type": "stream",
     "text": [
      "Requirement already satisfied: langchain in c:\\khajaclassroom\\generativeai\\textbookrag\\experiments\\langchain_vs_openai\\.venv\\lib\\site-packages (0.3.23)\n",
      "Requirement already satisfied: langchain-core<1.0.0,>=0.3.51 in c:\\khajaclassroom\\generativeai\\textbookrag\\experiments\\langchain_vs_openai\\.venv\\lib\\site-packages (from langchain) (0.3.51)\n",
      "Requirement already satisfied: langchain-text-splitters<1.0.0,>=0.3.8 in c:\\khajaclassroom\\generativeai\\textbookrag\\experiments\\langchain_vs_openai\\.venv\\lib\\site-packages (from langchain) (0.3.8)\n",
      "Requirement already satisfied: langsmith<0.4,>=0.1.17 in c:\\khajaclassroom\\generativeai\\textbookrag\\experiments\\langchain_vs_openai\\.venv\\lib\\site-packages (from langchain) (0.3.30)\n",
      "Requirement already satisfied: pydantic<3.0.0,>=2.7.4 in c:\\khajaclassroom\\generativeai\\textbookrag\\experiments\\langchain_vs_openai\\.venv\\lib\\site-packages (from langchain) (2.11.3)\n",
      "Requirement already satisfied: SQLAlchemy<3,>=1.4 in c:\\khajaclassroom\\generativeai\\textbookrag\\experiments\\langchain_vs_openai\\.venv\\lib\\site-packages (from langchain) (2.0.40)\n",
      "Requirement already satisfied: requests<3,>=2 in c:\\khajaclassroom\\generativeai\\textbookrag\\experiments\\langchain_vs_openai\\.venv\\lib\\site-packages (from langchain) (2.32.3)\n",
      "Requirement already satisfied: PyYAML>=5.3 in c:\\khajaclassroom\\generativeai\\textbookrag\\experiments\\langchain_vs_openai\\.venv\\lib\\site-packages (from langchain) (6.0.2)\n",
      "Requirement already satisfied: tenacity!=8.4.0,<10.0.0,>=8.1.0 in c:\\khajaclassroom\\generativeai\\textbookrag\\experiments\\langchain_vs_openai\\.venv\\lib\\site-packages (from langchain-core<1.0.0,>=0.3.51->langchain) (9.1.2)\n",
      "Requirement already satisfied: jsonpatch<2.0,>=1.33 in c:\\khajaclassroom\\generativeai\\textbookrag\\experiments\\langchain_vs_openai\\.venv\\lib\\site-packages (from langchain-core<1.0.0,>=0.3.51->langchain) (1.33)\n",
      "Requirement already satisfied: packaging<25,>=23.2 in c:\\khajaclassroom\\generativeai\\textbookrag\\experiments\\langchain_vs_openai\\.venv\\lib\\site-packages (from langchain-core<1.0.0,>=0.3.51->langchain) (24.2)\n",
      "Requirement already satisfied: typing-extensions>=4.7 in c:\\khajaclassroom\\generativeai\\textbookrag\\experiments\\langchain_vs_openai\\.venv\\lib\\site-packages (from langchain-core<1.0.0,>=0.3.51->langchain) (4.13.2)\n",
      "Requirement already satisfied: httpx<1,>=0.23.0 in c:\\khajaclassroom\\generativeai\\textbookrag\\experiments\\langchain_vs_openai\\.venv\\lib\\site-packages (from langsmith<0.4,>=0.1.17->langchain) (0.28.1)\n",
      "Requirement already satisfied: orjson<4.0.0,>=3.9.14 in c:\\khajaclassroom\\generativeai\\textbookrag\\experiments\\langchain_vs_openai\\.venv\\lib\\site-packages (from langsmith<0.4,>=0.1.17->langchain) (3.10.16)\n",
      "Requirement already satisfied: requests-toolbelt<2.0.0,>=1.0.0 in c:\\khajaclassroom\\generativeai\\textbookrag\\experiments\\langchain_vs_openai\\.venv\\lib\\site-packages (from langsmith<0.4,>=0.1.17->langchain) (1.0.0)\n",
      "Requirement already satisfied: zstandard<0.24.0,>=0.23.0 in c:\\khajaclassroom\\generativeai\\textbookrag\\experiments\\langchain_vs_openai\\.venv\\lib\\site-packages (from langsmith<0.4,>=0.1.17->langchain) (0.23.0)\n",
      "Requirement already satisfied: annotated-types>=0.6.0 in c:\\khajaclassroom\\generativeai\\textbookrag\\experiments\\langchain_vs_openai\\.venv\\lib\\site-packages (from pydantic<3.0.0,>=2.7.4->langchain) (0.7.0)\n",
      "Requirement already satisfied: pydantic-core==2.33.1 in c:\\khajaclassroom\\generativeai\\textbookrag\\experiments\\langchain_vs_openai\\.venv\\lib\\site-packages (from pydantic<3.0.0,>=2.7.4->langchain) (2.33.1)\n",
      "Requirement already satisfied: typing-inspection>=0.4.0 in c:\\khajaclassroom\\generativeai\\textbookrag\\experiments\\langchain_vs_openai\\.venv\\lib\\site-packages (from pydantic<3.0.0,>=2.7.4->langchain) (0.4.0)\n",
      "Requirement already satisfied: charset-normalizer<4,>=2 in c:\\khajaclassroom\\generativeai\\textbookrag\\experiments\\langchain_vs_openai\\.venv\\lib\\site-packages (from requests<3,>=2->langchain) (3.4.1)\n",
      "Requirement already satisfied: idna<4,>=2.5 in c:\\khajaclassroom\\generativeai\\textbookrag\\experiments\\langchain_vs_openai\\.venv\\lib\\site-packages (from requests<3,>=2->langchain) (3.10)\n",
      "Requirement already satisfied: urllib3<3,>=1.21.1 in c:\\khajaclassroom\\generativeai\\textbookrag\\experiments\\langchain_vs_openai\\.venv\\lib\\site-packages (from requests<3,>=2->langchain) (2.4.0)\n",
      "Requirement already satisfied: certifi>=2017.4.17 in c:\\khajaclassroom\\generativeai\\textbookrag\\experiments\\langchain_vs_openai\\.venv\\lib\\site-packages (from requests<3,>=2->langchain) (2025.1.31)\n",
      "Requirement already satisfied: greenlet>=1 in c:\\khajaclassroom\\generativeai\\textbookrag\\experiments\\langchain_vs_openai\\.venv\\lib\\site-packages (from SQLAlchemy<3,>=1.4->langchain) (3.1.1)\n",
      "Requirement already satisfied: anyio in c:\\khajaclassroom\\generativeai\\textbookrag\\experiments\\langchain_vs_openai\\.venv\\lib\\site-packages (from httpx<1,>=0.23.0->langsmith<0.4,>=0.1.17->langchain) (4.9.0)\n",
      "Requirement already satisfied: httpcore==1.* in c:\\khajaclassroom\\generativeai\\textbookrag\\experiments\\langchain_vs_openai\\.venv\\lib\\site-packages (from httpx<1,>=0.23.0->langsmith<0.4,>=0.1.17->langchain) (1.0.8)\n",
      "Requirement already satisfied: h11<0.15,>=0.13 in c:\\khajaclassroom\\generativeai\\textbookrag\\experiments\\langchain_vs_openai\\.venv\\lib\\site-packages (from httpcore==1.*->httpx<1,>=0.23.0->langsmith<0.4,>=0.1.17->langchain) (0.14.0)\n",
      "Requirement already satisfied: jsonpointer>=1.9 in c:\\khajaclassroom\\generativeai\\textbookrag\\experiments\\langchain_vs_openai\\.venv\\lib\\site-packages (from jsonpatch<2.0,>=1.33->langchain-core<1.0.0,>=0.3.51->langchain) (3.0.0)\n",
      "Requirement already satisfied: sniffio>=1.1 in c:\\khajaclassroom\\generativeai\\textbookrag\\experiments\\langchain_vs_openai\\.venv\\lib\\site-packages (from anyio->httpx<1,>=0.23.0->langsmith<0.4,>=0.1.17->langchain) (1.3.1)\n",
      "Note: you may need to restart the kernel to use updated packages.\n"
     ]
    },
    {
     "name": "stderr",
     "output_type": "stream",
     "text": [
      "\n",
      "[notice] A new release of pip is available: 24.0 -> 25.0.1\n",
      "[notice] To update, run: python.exe -m pip install --upgrade pip\n"
     ]
    }
   ],
   "source": [
    "%pip install langchain"
   ]
  },
  {
   "cell_type": "code",
   "execution_count": 15,
   "id": "b275202d",
   "metadata": {},
   "outputs": [
    {
     "name": "stdout",
     "output_type": "stream",
     "text": [
      "Collecting langchain-openai\n",
      "  Downloading langchain_openai-0.3.12-py3-none-any.whl.metadata (2.3 kB)\n",
      "Requirement already satisfied: langchain-core<1.0.0,>=0.3.49 in c:\\khajaclassroom\\generativeai\\textbookrag\\experiments\\langchain_vs_openai\\.venv\\lib\\site-packages (from langchain-openai) (0.3.51)\n",
      "Requirement already satisfied: openai<2.0.0,>=1.68.2 in c:\\khajaclassroom\\generativeai\\textbookrag\\experiments\\langchain_vs_openai\\.venv\\lib\\site-packages (from langchain-openai) (1.73.0)\n",
      "Collecting tiktoken<1,>=0.7 (from langchain-openai)\n",
      "  Using cached tiktoken-0.9.0-cp311-cp311-win_amd64.whl.metadata (6.8 kB)\n",
      "Requirement already satisfied: langsmith<0.4,>=0.1.125 in c:\\khajaclassroom\\generativeai\\textbookrag\\experiments\\langchain_vs_openai\\.venv\\lib\\site-packages (from langchain-core<1.0.0,>=0.3.49->langchain-openai) (0.3.30)\n",
      "Requirement already satisfied: tenacity!=8.4.0,<10.0.0,>=8.1.0 in c:\\khajaclassroom\\generativeai\\textbookrag\\experiments\\langchain_vs_openai\\.venv\\lib\\site-packages (from langchain-core<1.0.0,>=0.3.49->langchain-openai) (9.1.2)\n",
      "Requirement already satisfied: jsonpatch<2.0,>=1.33 in c:\\khajaclassroom\\generativeai\\textbookrag\\experiments\\langchain_vs_openai\\.venv\\lib\\site-packages (from langchain-core<1.0.0,>=0.3.49->langchain-openai) (1.33)\n",
      "Requirement already satisfied: PyYAML>=5.3 in c:\\khajaclassroom\\generativeai\\textbookrag\\experiments\\langchain_vs_openai\\.venv\\lib\\site-packages (from langchain-core<1.0.0,>=0.3.49->langchain-openai) (6.0.2)\n",
      "Requirement already satisfied: packaging<25,>=23.2 in c:\\khajaclassroom\\generativeai\\textbookrag\\experiments\\langchain_vs_openai\\.venv\\lib\\site-packages (from langchain-core<1.0.0,>=0.3.49->langchain-openai) (24.2)\n",
      "Requirement already satisfied: typing-extensions>=4.7 in c:\\khajaclassroom\\generativeai\\textbookrag\\experiments\\langchain_vs_openai\\.venv\\lib\\site-packages (from langchain-core<1.0.0,>=0.3.49->langchain-openai) (4.13.2)\n",
      "Requirement already satisfied: pydantic<3.0.0,>=2.5.2 in c:\\khajaclassroom\\generativeai\\textbookrag\\experiments\\langchain_vs_openai\\.venv\\lib\\site-packages (from langchain-core<1.0.0,>=0.3.49->langchain-openai) (2.11.3)\n",
      "Requirement already satisfied: anyio<5,>=3.5.0 in c:\\khajaclassroom\\generativeai\\textbookrag\\experiments\\langchain_vs_openai\\.venv\\lib\\site-packages (from openai<2.0.0,>=1.68.2->langchain-openai) (4.9.0)\n",
      "Requirement already satisfied: distro<2,>=1.7.0 in c:\\khajaclassroom\\generativeai\\textbookrag\\experiments\\langchain_vs_openai\\.venv\\lib\\site-packages (from openai<2.0.0,>=1.68.2->langchain-openai) (1.9.0)\n",
      "Requirement already satisfied: httpx<1,>=0.23.0 in c:\\khajaclassroom\\generativeai\\textbookrag\\experiments\\langchain_vs_openai\\.venv\\lib\\site-packages (from openai<2.0.0,>=1.68.2->langchain-openai) (0.28.1)\n",
      "Requirement already satisfied: jiter<1,>=0.4.0 in c:\\khajaclassroom\\generativeai\\textbookrag\\experiments\\langchain_vs_openai\\.venv\\lib\\site-packages (from openai<2.0.0,>=1.68.2->langchain-openai) (0.9.0)\n",
      "Requirement already satisfied: sniffio in c:\\khajaclassroom\\generativeai\\textbookrag\\experiments\\langchain_vs_openai\\.venv\\lib\\site-packages (from openai<2.0.0,>=1.68.2->langchain-openai) (1.3.1)\n",
      "Requirement already satisfied: tqdm>4 in c:\\khajaclassroom\\generativeai\\textbookrag\\experiments\\langchain_vs_openai\\.venv\\lib\\site-packages (from openai<2.0.0,>=1.68.2->langchain-openai) (4.67.1)\n",
      "Collecting regex>=2022.1.18 (from tiktoken<1,>=0.7->langchain-openai)\n",
      "  Using cached regex-2024.11.6-cp311-cp311-win_amd64.whl.metadata (41 kB)\n",
      "Requirement already satisfied: requests>=2.26.0 in c:\\khajaclassroom\\generativeai\\textbookrag\\experiments\\langchain_vs_openai\\.venv\\lib\\site-packages (from tiktoken<1,>=0.7->langchain-openai) (2.32.3)\n",
      "Requirement already satisfied: idna>=2.8 in c:\\khajaclassroom\\generativeai\\textbookrag\\experiments\\langchain_vs_openai\\.venv\\lib\\site-packages (from anyio<5,>=3.5.0->openai<2.0.0,>=1.68.2->langchain-openai) (3.10)\n",
      "Requirement already satisfied: certifi in c:\\khajaclassroom\\generativeai\\textbookrag\\experiments\\langchain_vs_openai\\.venv\\lib\\site-packages (from httpx<1,>=0.23.0->openai<2.0.0,>=1.68.2->langchain-openai) (2025.1.31)\n",
      "Requirement already satisfied: httpcore==1.* in c:\\khajaclassroom\\generativeai\\textbookrag\\experiments\\langchain_vs_openai\\.venv\\lib\\site-packages (from httpx<1,>=0.23.0->openai<2.0.0,>=1.68.2->langchain-openai) (1.0.8)\n",
      "Requirement already satisfied: h11<0.15,>=0.13 in c:\\khajaclassroom\\generativeai\\textbookrag\\experiments\\langchain_vs_openai\\.venv\\lib\\site-packages (from httpcore==1.*->httpx<1,>=0.23.0->openai<2.0.0,>=1.68.2->langchain-openai) (0.14.0)\n",
      "Requirement already satisfied: jsonpointer>=1.9 in c:\\khajaclassroom\\generativeai\\textbookrag\\experiments\\langchain_vs_openai\\.venv\\lib\\site-packages (from jsonpatch<2.0,>=1.33->langchain-core<1.0.0,>=0.3.49->langchain-openai) (3.0.0)\n",
      "Requirement already satisfied: orjson<4.0.0,>=3.9.14 in c:\\khajaclassroom\\generativeai\\textbookrag\\experiments\\langchain_vs_openai\\.venv\\lib\\site-packages (from langsmith<0.4,>=0.1.125->langchain-core<1.0.0,>=0.3.49->langchain-openai) (3.10.16)\n",
      "Requirement already satisfied: requests-toolbelt<2.0.0,>=1.0.0 in c:\\khajaclassroom\\generativeai\\textbookrag\\experiments\\langchain_vs_openai\\.venv\\lib\\site-packages (from langsmith<0.4,>=0.1.125->langchain-core<1.0.0,>=0.3.49->langchain-openai) (1.0.0)\n",
      "Requirement already satisfied: zstandard<0.24.0,>=0.23.0 in c:\\khajaclassroom\\generativeai\\textbookrag\\experiments\\langchain_vs_openai\\.venv\\lib\\site-packages (from langsmith<0.4,>=0.1.125->langchain-core<1.0.0,>=0.3.49->langchain-openai) (0.23.0)\n",
      "Requirement already satisfied: annotated-types>=0.6.0 in c:\\khajaclassroom\\generativeai\\textbookrag\\experiments\\langchain_vs_openai\\.venv\\lib\\site-packages (from pydantic<3.0.0,>=2.5.2->langchain-core<1.0.0,>=0.3.49->langchain-openai) (0.7.0)\n",
      "Requirement already satisfied: pydantic-core==2.33.1 in c:\\khajaclassroom\\generativeai\\textbookrag\\experiments\\langchain_vs_openai\\.venv\\lib\\site-packages (from pydantic<3.0.0,>=2.5.2->langchain-core<1.0.0,>=0.3.49->langchain-openai) (2.33.1)\n",
      "Requirement already satisfied: typing-inspection>=0.4.0 in c:\\khajaclassroom\\generativeai\\textbookrag\\experiments\\langchain_vs_openai\\.venv\\lib\\site-packages (from pydantic<3.0.0,>=2.5.2->langchain-core<1.0.0,>=0.3.49->langchain-openai) (0.4.0)\n",
      "Requirement already satisfied: charset-normalizer<4,>=2 in c:\\khajaclassroom\\generativeai\\textbookrag\\experiments\\langchain_vs_openai\\.venv\\lib\\site-packages (from requests>=2.26.0->tiktoken<1,>=0.7->langchain-openai) (3.4.1)\n",
      "Requirement already satisfied: urllib3<3,>=1.21.1 in c:\\khajaclassroom\\generativeai\\textbookrag\\experiments\\langchain_vs_openai\\.venv\\lib\\site-packages (from requests>=2.26.0->tiktoken<1,>=0.7->langchain-openai) (2.4.0)\n",
      "Requirement already satisfied: colorama in c:\\khajaclassroom\\generativeai\\textbookrag\\experiments\\langchain_vs_openai\\.venv\\lib\\site-packages (from tqdm>4->openai<2.0.0,>=1.68.2->langchain-openai) (0.4.6)\n",
      "Downloading langchain_openai-0.3.12-py3-none-any.whl (61 kB)\n",
      "   ---------------------------------------- 0.0/61.3 kB ? eta -:--:--\n",
      "   ---------------------------------------- 61.3/61.3 kB 3.2 MB/s eta 0:00:00\n",
      "Using cached tiktoken-0.9.0-cp311-cp311-win_amd64.whl (893 kB)\n",
      "Using cached regex-2024.11.6-cp311-cp311-win_amd64.whl (274 kB)\n",
      "Installing collected packages: regex, tiktoken, langchain-openai\n",
      "Successfully installed langchain-openai-0.3.12 regex-2024.11.6 tiktoken-0.9.0\n",
      "Note: you may need to restart the kernel to use updated packages.\n"
     ]
    },
    {
     "name": "stderr",
     "output_type": "stream",
     "text": [
      "\n",
      "[notice] A new release of pip is available: 24.0 -> 25.0.1\n",
      "[notice] To update, run: python.exe -m pip install --upgrade pip\n"
     ]
    }
   ],
   "source": [
    "%pip install langchain-openai"
   ]
  }
 ],
 "metadata": {
  "kernelspec": {
   "display_name": ".venv",
   "language": "python",
   "name": "python3"
  },
  "language_info": {
   "codemirror_mode": {
    "name": "ipython",
    "version": 3
   },
   "file_extension": ".py",
   "mimetype": "text/x-python",
   "name": "python",
   "nbconvert_exporter": "python",
   "pygments_lexer": "ipython3",
   "version": "3.11.9"
  }
 },
 "nbformat": 4,
 "nbformat_minor": 5
}
